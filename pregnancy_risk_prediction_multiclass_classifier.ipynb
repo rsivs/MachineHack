{
  "nbformat": 4,
  "nbformat_minor": 0,
  "metadata": {
    "colab": {
      "name": "pregnancy_risk_prediction_multiclass_classifier.ipynb",
      "provenance": [],
      "collapsed_sections": [],
      "include_colab_link": true
    },
    "kernelspec": {
      "name": "python3",
      "display_name": "Python 3"
    }
  },
  "cells": [
    {
      "cell_type": "markdown",
      "metadata": {
        "id": "view-in-github",
        "colab_type": "text"
      },
      "source": [
        "<a href=\"https://colab.research.google.com/github/rsivs/MachineHack/blob/master/pregnancy_risk_prediction_multiclass_classifier.ipynb\" target=\"_parent\"><img src=\"https://colab.research.google.com/assets/colab-badge.svg\" alt=\"Open In Colab\"/></a>"
      ]
    },
    {
      "cell_type": "code",
      "metadata": {
        "id": "6Cbh4wL3BtSr"
      },
      "source": [
        "import pandas as pd\n",
        "import numpy as np\n",
        "import matplotlib.pyplot as plt\n",
        "import seaborn as sns\n",
        "\n",
        "from sklearn.linear_model import LogisticRegression\n",
        "from sklearn.tree import DecisionTreeClassifier\n",
        "from sklearn.ensemble import RandomForestClassifier\n",
        "from sklearn.metrics import accuracy_score, f1_score, precision_score, recall_score\n",
        "from sklearn.metrics import confusion_matrix, roc_auc_score, roc_curve, classification_report, precision_recall_curve\n",
        "from sklearn.model_selection import train_test_split, cross_val_score, StratifiedKFold, GridSearchCV, RandomizedSearchCV\n",
        "\n",
        "from collections import Counter"
      ],
      "execution_count": null,
      "outputs": []
    },
    {
      "cell_type": "code",
      "metadata": {
        "id": "WXlMy0Menx6L"
      },
      "source": [
        "# Load the data\n",
        "baby_data_clf=pd.read_csv('baby-weights-dataset2.csv') \n"
      ],
      "execution_count": null,
      "outputs": []
    },
    {
      "cell_type": "code",
      "metadata": {
        "colab": {
          "base_uri": "https://localhost:8080/"
        },
        "id": "TL953CbUoYm7",
        "outputId": "28bbf8d1-827b-42cc-b0fa-97d5a2561593"
      },
      "source": [
        "print(baby_data_clf.head(2))"
      ],
      "execution_count": null,
      "outputs": [
        {
          "output_type": "stream",
          "text": [
            "     ID  SEX  MARITAL  FAGE  GAINED  ...  PRETERM  RENAL  RHSEN  UTERINE  BWEIGHT\n",
            "0  2001    2        1    33      26  ...        0      0      0        0   4.3750\n",
            "1  2002    2        2    19      40  ...        0      0      0        0   6.9375\n",
            "\n",
            "[2 rows x 37 columns]\n"
          ],
          "name": "stdout"
        }
      ]
    },
    {
      "cell_type": "code",
      "metadata": {
        "id": "KZbVyqAowc2M"
      },
      "source": [
        "def process_bweight(x):\n",
        "  if x > 5.5:\n",
        "    return 0\n",
        "  elif x < 3.5:\n",
        "    return 2 \n",
        "  else:\n",
        "    return 1 \n",
        "\n",
        "baby_data_clf[\"BWEIGHT\"] = baby_data_clf[\"BWEIGHT\"].apply(lambda x : process_bweight(x))"
      ],
      "execution_count": null,
      "outputs": []
    },
    {
      "cell_type": "code",
      "metadata": {
        "colab": {
          "base_uri": "https://localhost:8080/"
        },
        "id": "1M39HPYmD75p",
        "outputId": "667715c6-a33f-445f-e9e7-0e06dd856958"
      },
      "source": [
        "print(baby_data_clf.head(10))"
      ],
      "execution_count": null,
      "outputs": [
        {
          "output_type": "stream",
          "text": [
            "     ID  SEX  MARITAL  FAGE  GAINED  ...  PRETERM  RENAL  RHSEN  UTERINE  BWEIGHT\n",
            "0  2001    2        1    33      26  ...        0      0      0        0        1\n",
            "1  2002    2        2    19      40  ...        0      0      0        0        0\n",
            "2  2003    2        1    33      16  ...        0      0      0        0        0\n",
            "3  2004    1        1    25      40  ...        0      0      0        0        0\n",
            "4  2005    1        2    21      60  ...        0      0      0        0        0\n",
            "5  2006    1        1    21      30  ...        0      0      0        0        0\n",
            "6  2007    1        2    29      20  ...        0      0      0        0        0\n",
            "7  2008    2        2    23      41  ...        0      0      0        0        0\n",
            "8  2009    2        1    27       0  ...        0      0      0        0        0\n",
            "9  2010    1        1    30      30  ...        0      0      0        0        0\n",
            "\n",
            "[10 rows x 37 columns]\n"
          ],
          "name": "stdout"
        }
      ]
    },
    {
      "cell_type": "code",
      "metadata": {
        "id": "L2l5J4I1EeVn"
      },
      "source": [
        "y_data = baby_data_clf[\"BWEIGHT\"]\n",
        "x_data = baby_data_clf.drop(['ID', 'BWEIGHT', 'SEX','WEEKS'], axis=1)"
      ],
      "execution_count": null,
      "outputs": []
    },
    {
      "cell_type": "code",
      "metadata": {
        "id": "cnr6fB3aFe-_"
      },
      "source": [
        "x_data_dummies = pd.get_dummies(data=x_data, columns=['HISPMOM', 'HISPDAD'])"
      ],
      "execution_count": null,
      "outputs": []
    },
    {
      "cell_type": "code",
      "metadata": {
        "colab": {
          "base_uri": "https://localhost:8080/",
          "height": 224
        },
        "id": "AOnLx4LsGXtn",
        "outputId": "98be0273-da02-483f-f1f5-9bf54d5aabbb"
      },
      "source": [
        "x_data_dummies.head()"
      ],
      "execution_count": null,
      "outputs": [
        {
          "output_type": "execute_result",
          "data": {
            "text/html": [
              "<div>\n",
              "<style scoped>\n",
              "    .dataframe tbody tr th:only-of-type {\n",
              "        vertical-align: middle;\n",
              "    }\n",
              "\n",
              "    .dataframe tbody tr th {\n",
              "        vertical-align: top;\n",
              "    }\n",
              "\n",
              "    .dataframe thead th {\n",
              "        text-align: right;\n",
              "    }\n",
              "</style>\n",
              "<table border=\"1\" class=\"dataframe\">\n",
              "  <thead>\n",
              "    <tr style=\"text-align: right;\">\n",
              "      <th></th>\n",
              "      <th>MARITAL</th>\n",
              "      <th>FAGE</th>\n",
              "      <th>GAINED</th>\n",
              "      <th>VISITS</th>\n",
              "      <th>MAGE</th>\n",
              "      <th>FEDUC</th>\n",
              "      <th>MEDUC</th>\n",
              "      <th>TOTALP</th>\n",
              "      <th>BDEAD</th>\n",
              "      <th>TERMS</th>\n",
              "      <th>LOUTCOME</th>\n",
              "      <th>RACEMOM</th>\n",
              "      <th>RACEDAD</th>\n",
              "      <th>CIGNUM</th>\n",
              "      <th>DRINKNUM</th>\n",
              "      <th>ANEMIA</th>\n",
              "      <th>CARDIAC</th>\n",
              "      <th>ACLUNG</th>\n",
              "      <th>DIABETES</th>\n",
              "      <th>HERPES</th>\n",
              "      <th>HYDRAM</th>\n",
              "      <th>HEMOGLOB</th>\n",
              "      <th>HYPERCH</th>\n",
              "      <th>HYPERPR</th>\n",
              "      <th>ECLAMP</th>\n",
              "      <th>CERVIX</th>\n",
              "      <th>PINFANT</th>\n",
              "      <th>PRETERM</th>\n",
              "      <th>RENAL</th>\n",
              "      <th>RHSEN</th>\n",
              "      <th>UTERINE</th>\n",
              "      <th>HISPMOM_C</th>\n",
              "      <th>HISPMOM_M</th>\n",
              "      <th>HISPMOM_N</th>\n",
              "      <th>HISPMOM_O</th>\n",
              "      <th>HISPMOM_P</th>\n",
              "      <th>HISPMOM_S</th>\n",
              "      <th>HISPMOM_U</th>\n",
              "      <th>HISPDAD_C</th>\n",
              "      <th>HISPDAD_M</th>\n",
              "      <th>HISPDAD_N</th>\n",
              "      <th>HISPDAD_O</th>\n",
              "      <th>HISPDAD_P</th>\n",
              "      <th>HISPDAD_S</th>\n",
              "      <th>HISPDAD_U</th>\n",
              "    </tr>\n",
              "  </thead>\n",
              "  <tbody>\n",
              "    <tr>\n",
              "      <th>0</th>\n",
              "      <td>1</td>\n",
              "      <td>33</td>\n",
              "      <td>26</td>\n",
              "      <td>10</td>\n",
              "      <td>34</td>\n",
              "      <td>12</td>\n",
              "      <td>4</td>\n",
              "      <td>2</td>\n",
              "      <td>0</td>\n",
              "      <td>0</td>\n",
              "      <td>1</td>\n",
              "      <td>1</td>\n",
              "      <td>1</td>\n",
              "      <td>0</td>\n",
              "      <td>0</td>\n",
              "      <td>0</td>\n",
              "      <td>0</td>\n",
              "      <td>0</td>\n",
              "      <td>0</td>\n",
              "      <td>0</td>\n",
              "      <td>0</td>\n",
              "      <td>0</td>\n",
              "      <td>0</td>\n",
              "      <td>0</td>\n",
              "      <td>0</td>\n",
              "      <td>0</td>\n",
              "      <td>0</td>\n",
              "      <td>0</td>\n",
              "      <td>0</td>\n",
              "      <td>0</td>\n",
              "      <td>0</td>\n",
              "      <td>0</td>\n",
              "      <td>1</td>\n",
              "      <td>0</td>\n",
              "      <td>0</td>\n",
              "      <td>0</td>\n",
              "      <td>0</td>\n",
              "      <td>0</td>\n",
              "      <td>0</td>\n",
              "      <td>1</td>\n",
              "      <td>0</td>\n",
              "      <td>0</td>\n",
              "      <td>0</td>\n",
              "      <td>0</td>\n",
              "      <td>0</td>\n",
              "    </tr>\n",
              "    <tr>\n",
              "      <th>1</th>\n",
              "      <td>2</td>\n",
              "      <td>19</td>\n",
              "      <td>40</td>\n",
              "      <td>10</td>\n",
              "      <td>18</td>\n",
              "      <td>11</td>\n",
              "      <td>12</td>\n",
              "      <td>1</td>\n",
              "      <td>0</td>\n",
              "      <td>0</td>\n",
              "      <td>9</td>\n",
              "      <td>1</td>\n",
              "      <td>1</td>\n",
              "      <td>0</td>\n",
              "      <td>0</td>\n",
              "      <td>0</td>\n",
              "      <td>0</td>\n",
              "      <td>0</td>\n",
              "      <td>0</td>\n",
              "      <td>0</td>\n",
              "      <td>0</td>\n",
              "      <td>0</td>\n",
              "      <td>0</td>\n",
              "      <td>0</td>\n",
              "      <td>0</td>\n",
              "      <td>0</td>\n",
              "      <td>0</td>\n",
              "      <td>0</td>\n",
              "      <td>0</td>\n",
              "      <td>0</td>\n",
              "      <td>0</td>\n",
              "      <td>0</td>\n",
              "      <td>0</td>\n",
              "      <td>1</td>\n",
              "      <td>0</td>\n",
              "      <td>0</td>\n",
              "      <td>0</td>\n",
              "      <td>0</td>\n",
              "      <td>0</td>\n",
              "      <td>0</td>\n",
              "      <td>1</td>\n",
              "      <td>0</td>\n",
              "      <td>0</td>\n",
              "      <td>0</td>\n",
              "      <td>0</td>\n",
              "    </tr>\n",
              "    <tr>\n",
              "      <th>2</th>\n",
              "      <td>1</td>\n",
              "      <td>33</td>\n",
              "      <td>16</td>\n",
              "      <td>14</td>\n",
              "      <td>31</td>\n",
              "      <td>16</td>\n",
              "      <td>16</td>\n",
              "      <td>2</td>\n",
              "      <td>0</td>\n",
              "      <td>0</td>\n",
              "      <td>1</td>\n",
              "      <td>1</td>\n",
              "      <td>1</td>\n",
              "      <td>0</td>\n",
              "      <td>0</td>\n",
              "      <td>0</td>\n",
              "      <td>0</td>\n",
              "      <td>0</td>\n",
              "      <td>0</td>\n",
              "      <td>0</td>\n",
              "      <td>0</td>\n",
              "      <td>0</td>\n",
              "      <td>0</td>\n",
              "      <td>0</td>\n",
              "      <td>0</td>\n",
              "      <td>0</td>\n",
              "      <td>0</td>\n",
              "      <td>0</td>\n",
              "      <td>0</td>\n",
              "      <td>0</td>\n",
              "      <td>0</td>\n",
              "      <td>0</td>\n",
              "      <td>0</td>\n",
              "      <td>1</td>\n",
              "      <td>0</td>\n",
              "      <td>0</td>\n",
              "      <td>0</td>\n",
              "      <td>0</td>\n",
              "      <td>0</td>\n",
              "      <td>0</td>\n",
              "      <td>1</td>\n",
              "      <td>0</td>\n",
              "      <td>0</td>\n",
              "      <td>0</td>\n",
              "      <td>0</td>\n",
              "    </tr>\n",
              "    <tr>\n",
              "      <th>3</th>\n",
              "      <td>1</td>\n",
              "      <td>25</td>\n",
              "      <td>40</td>\n",
              "      <td>15</td>\n",
              "      <td>28</td>\n",
              "      <td>12</td>\n",
              "      <td>12</td>\n",
              "      <td>3</td>\n",
              "      <td>0</td>\n",
              "      <td>0</td>\n",
              "      <td>1</td>\n",
              "      <td>8</td>\n",
              "      <td>1</td>\n",
              "      <td>0</td>\n",
              "      <td>0</td>\n",
              "      <td>0</td>\n",
              "      <td>0</td>\n",
              "      <td>0</td>\n",
              "      <td>0</td>\n",
              "      <td>0</td>\n",
              "      <td>0</td>\n",
              "      <td>0</td>\n",
              "      <td>0</td>\n",
              "      <td>0</td>\n",
              "      <td>0</td>\n",
              "      <td>0</td>\n",
              "      <td>0</td>\n",
              "      <td>0</td>\n",
              "      <td>0</td>\n",
              "      <td>0</td>\n",
              "      <td>0</td>\n",
              "      <td>0</td>\n",
              "      <td>0</td>\n",
              "      <td>1</td>\n",
              "      <td>0</td>\n",
              "      <td>0</td>\n",
              "      <td>0</td>\n",
              "      <td>0</td>\n",
              "      <td>0</td>\n",
              "      <td>0</td>\n",
              "      <td>1</td>\n",
              "      <td>0</td>\n",
              "      <td>0</td>\n",
              "      <td>0</td>\n",
              "      <td>0</td>\n",
              "    </tr>\n",
              "    <tr>\n",
              "      <th>4</th>\n",
              "      <td>2</td>\n",
              "      <td>21</td>\n",
              "      <td>60</td>\n",
              "      <td>13</td>\n",
              "      <td>20</td>\n",
              "      <td>12</td>\n",
              "      <td>14</td>\n",
              "      <td>2</td>\n",
              "      <td>0</td>\n",
              "      <td>0</td>\n",
              "      <td>1</td>\n",
              "      <td>2</td>\n",
              "      <td>2</td>\n",
              "      <td>0</td>\n",
              "      <td>0</td>\n",
              "      <td>0</td>\n",
              "      <td>0</td>\n",
              "      <td>0</td>\n",
              "      <td>0</td>\n",
              "      <td>0</td>\n",
              "      <td>0</td>\n",
              "      <td>0</td>\n",
              "      <td>0</td>\n",
              "      <td>1</td>\n",
              "      <td>0</td>\n",
              "      <td>0</td>\n",
              "      <td>0</td>\n",
              "      <td>0</td>\n",
              "      <td>0</td>\n",
              "      <td>0</td>\n",
              "      <td>0</td>\n",
              "      <td>0</td>\n",
              "      <td>0</td>\n",
              "      <td>1</td>\n",
              "      <td>0</td>\n",
              "      <td>0</td>\n",
              "      <td>0</td>\n",
              "      <td>0</td>\n",
              "      <td>0</td>\n",
              "      <td>0</td>\n",
              "      <td>1</td>\n",
              "      <td>0</td>\n",
              "      <td>0</td>\n",
              "      <td>0</td>\n",
              "      <td>0</td>\n",
              "    </tr>\n",
              "  </tbody>\n",
              "</table>\n",
              "</div>"
            ],
            "text/plain": [
              "   MARITAL  FAGE  GAINED  VISITS  ...  HISPDAD_O  HISPDAD_P  HISPDAD_S  HISPDAD_U\n",
              "0        1    33      26      10  ...          0          0          0          0\n",
              "1        2    19      40      10  ...          0          0          0          0\n",
              "2        1    33      16      14  ...          0          0          0          0\n",
              "3        1    25      40      15  ...          0          0          0          0\n",
              "4        2    21      60      13  ...          0          0          0          0\n",
              "\n",
              "[5 rows x 45 columns]"
            ]
          },
          "metadata": {
            "tags": []
          },
          "execution_count": 7
        }
      ]
    },
    {
      "cell_type": "code",
      "metadata": {
        "id": "yAGP2ndIssm1"
      },
      "source": [
        "# Splitting the data into train and test\r\n",
        "X_train,X_test,y_train,y_test=train_test_split(x_data_dummies, y_data, train_size=0.8, stratify = y_data, random_state=100)"
      ],
      "execution_count": null,
      "outputs": []
    },
    {
      "cell_type": "code",
      "metadata": {
        "colab": {
          "base_uri": "https://localhost:8080/"
        },
        "id": "LQaWi5fvLimI",
        "outputId": "d415b0ac-cefc-4afc-ec7a-2ff74b7089fa"
      },
      "source": [
        "from imblearn.combine import SMOTEENN\r\n",
        "\r\n",
        "counter = Counter(y_data)\r\n",
        "print('Before',counter)\r\n",
        "# oversampling the train dataset using SMOTE + ENN\r\n",
        "smenn = SMOTEENN()\r\n",
        "X_smenn, y_smenn = smenn.fit_resample(x_data_dummies, y_data)\r\n",
        "\r\n",
        "counter = Counter(y_smenn)\r\n",
        "print('After',counter)"
      ],
      "execution_count": null,
      "outputs": [
        {
          "output_type": "stream",
          "text": [
            "Before Counter({0: 93242, 1: 6464, 2: 1694})\n"
          ],
          "name": "stdout"
        },
        {
          "output_type": "stream",
          "text": [
            "/usr/local/lib/python3.6/dist-packages/sklearn/utils/deprecation.py:87: FutureWarning: Function safe_indexing is deprecated; safe_indexing is deprecated in version 0.22 and will be removed in version 0.24.\n",
            "  warnings.warn(msg, category=FutureWarning)\n",
            "/usr/local/lib/python3.6/dist-packages/sklearn/utils/deprecation.py:87: FutureWarning: Function safe_indexing is deprecated; safe_indexing is deprecated in version 0.22 and will be removed in version 0.24.\n",
            "  warnings.warn(msg, category=FutureWarning)\n",
            "/usr/local/lib/python3.6/dist-packages/sklearn/utils/deprecation.py:87: FutureWarning: Function safe_indexing is deprecated; safe_indexing is deprecated in version 0.22 and will be removed in version 0.24.\n",
            "  warnings.warn(msg, category=FutureWarning)\n",
            "/usr/local/lib/python3.6/dist-packages/sklearn/utils/deprecation.py:87: FutureWarning: Function safe_indexing is deprecated; safe_indexing is deprecated in version 0.22 and will be removed in version 0.24.\n",
            "  warnings.warn(msg, category=FutureWarning)\n",
            "/usr/local/lib/python3.6/dist-packages/sklearn/utils/deprecation.py:87: FutureWarning: Function safe_indexing is deprecated; safe_indexing is deprecated in version 0.22 and will be removed in version 0.24.\n",
            "  warnings.warn(msg, category=FutureWarning)\n"
          ],
          "name": "stderr"
        },
        {
          "output_type": "stream",
          "text": [
            "After Counter({2: 92047, 1: 86976, 0: 51148})\n"
          ],
          "name": "stdout"
        },
        {
          "output_type": "stream",
          "text": [
            "/usr/local/lib/python3.6/dist-packages/sklearn/utils/deprecation.py:87: FutureWarning: Function safe_indexing is deprecated; safe_indexing is deprecated in version 0.22 and will be removed in version 0.24.\n",
            "  warnings.warn(msg, category=FutureWarning)\n"
          ],
          "name": "stderr"
        }
      ]
    },
    {
      "cell_type": "code",
      "metadata": {
        "colab": {
          "base_uri": "https://localhost:8080/"
        },
        "id": "b3-p7pTTNUto",
        "outputId": "b4cdaa03-d9e2-42fe-de0f-ec411fde9586"
      },
      "source": [
        "print(X_smenn)"
      ],
      "execution_count": null,
      "outputs": [
        {
          "output_type": "stream",
          "text": [
            "[[ 1 33 16 ...  0  0  0]\n",
            " [ 1 25 40 ...  0  0  0]\n",
            " [ 1 21 30 ...  0  0  0]\n",
            " ...\n",
            " [ 2 36 40 ...  0  0  0]\n",
            " [ 1 27 20 ...  0  0  0]\n",
            " [ 1 26 29 ...  0  0  0]]\n"
          ],
          "name": "stdout"
        }
      ]
    },
    {
      "cell_type": "code",
      "metadata": {
        "colab": {
          "base_uri": "https://localhost:8080/"
        },
        "id": "4TdoX59TS_R2",
        "outputId": "fcaef0c6-0d0e-41b5-e3d8-bc410c1faf2f"
      },
      "source": [
        "list(X_train.columns) "
      ],
      "execution_count": null,
      "outputs": [
        {
          "output_type": "execute_result",
          "data": {
            "text/plain": [
              "['MARITAL',\n",
              " 'FAGE',\n",
              " 'GAINED',\n",
              " 'VISITS',\n",
              " 'MAGE',\n",
              " 'FEDUC',\n",
              " 'MEDUC',\n",
              " 'TOTALP',\n",
              " 'BDEAD',\n",
              " 'TERMS',\n",
              " 'LOUTCOME',\n",
              " 'RACEMOM',\n",
              " 'RACEDAD',\n",
              " 'CIGNUM',\n",
              " 'DRINKNUM',\n",
              " 'ANEMIA',\n",
              " 'CARDIAC',\n",
              " 'ACLUNG',\n",
              " 'DIABETES',\n",
              " 'HERPES',\n",
              " 'HYDRAM',\n",
              " 'HEMOGLOB',\n",
              " 'HYPERCH',\n",
              " 'HYPERPR',\n",
              " 'ECLAMP',\n",
              " 'CERVIX',\n",
              " 'PINFANT',\n",
              " 'PRETERM',\n",
              " 'RENAL',\n",
              " 'RHSEN',\n",
              " 'UTERINE',\n",
              " 'HISPMOM_C',\n",
              " 'HISPMOM_M',\n",
              " 'HISPMOM_N',\n",
              " 'HISPMOM_O',\n",
              " 'HISPMOM_P',\n",
              " 'HISPMOM_S',\n",
              " 'HISPMOM_U',\n",
              " 'HISPDAD_C',\n",
              " 'HISPDAD_M',\n",
              " 'HISPDAD_N',\n",
              " 'HISPDAD_O',\n",
              " 'HISPDAD_P',\n",
              " 'HISPDAD_S',\n",
              " 'HISPDAD_U']"
            ]
          },
          "metadata": {
            "tags": []
          },
          "execution_count": 43
        }
      ]
    },
    {
      "cell_type": "code",
      "metadata": {
        "id": "d4AZ_vJ0VB-A"
      },
      "source": [
        "column_names = ['MARITAL',\r\n",
        " 'FAGE',\r\n",
        " 'GAINED',\r\n",
        " 'VISITS',\r\n",
        " 'MAGE',\r\n",
        " 'FEDUC',\r\n",
        " 'MEDUC',\r\n",
        " 'TOTALP',\r\n",
        " 'BDEAD',\r\n",
        " 'TERMS',\r\n",
        " 'LOUTCOME',\r\n",
        " 'RACEMOM',\r\n",
        " 'RACEDAD',\r\n",
        " 'CIGNUM',\r\n",
        " 'DRINKNUM',\r\n",
        " 'ANEMIA',\r\n",
        " 'CARDIAC',\r\n",
        " 'ACLUNG',\r\n",
        " 'DIABETES',\r\n",
        " 'HERPES',\r\n",
        " 'HYDRAM',\r\n",
        " 'HEMOGLOB',\r\n",
        " 'HYPERCH',\r\n",
        " 'HYPERPR',\r\n",
        " 'ECLAMP',\r\n",
        " 'CERVIX',\r\n",
        " 'PINFANT',\r\n",
        " 'PRETERM',\r\n",
        " 'RENAL',\r\n",
        " 'RHSEN',\r\n",
        " 'UTERINE',\r\n",
        " 'HISPMOM_C',\r\n",
        " 'HISPMOM_M',\r\n",
        " 'HISPMOM_N',\r\n",
        " 'HISPMOM_O',\r\n",
        " 'HISPMOM_P',\r\n",
        " 'HISPMOM_S',\r\n",
        " 'HISPMOM_U',\r\n",
        " 'HISPDAD_C',\r\n",
        " 'HISPDAD_M',\r\n",
        " 'HISPDAD_N',\r\n",
        " 'HISPDAD_O',\r\n",
        " 'HISPDAD_P',\r\n",
        " 'HISPDAD_S',\r\n",
        " 'HISPDAD_U']"
      ],
      "execution_count": null,
      "outputs": []
    },
    {
      "cell_type": "code",
      "metadata": {
        "id": "fq8LMlBdVGo0"
      },
      "source": [
        "# creating the dataframe \r\n",
        "X_bal = pd.DataFrame(data = X_smenn,columns = column_names) "
      ],
      "execution_count": null,
      "outputs": []
    },
    {
      "cell_type": "code",
      "metadata": {
        "id": "7eV3pATdbGW_"
      },
      "source": [
        "# Splitting the data into train and test\r\n",
        "X_train,X_test,y_train,y_test=train_test_split(X_bal, y_smenn, train_size=0.9, stratify = y_smenn, random_state=100)"
      ],
      "execution_count": null,
      "outputs": []
    },
    {
      "cell_type": "code",
      "metadata": {
        "colab": {
          "base_uri": "https://localhost:8080/"
        },
        "id": "RpOIEal4DHFn",
        "outputId": "844bc6ed-ba62-4fdc-dc05-7edf7a5fe1bf"
      },
      "source": [
        "from xgboost import XGBClassifier\r\n",
        "from sklearn.metrics import accuracy_score\r\n",
        "model = XGBClassifier(booster = \"gbtree\", objective = \"multi:softprob\", num_class = 3, eval_metric = \"mae\") \r\n",
        "\r\n",
        "model.fit(X_train, y_train)"
      ],
      "execution_count": null,
      "outputs": [
        {
          "output_type": "execute_result",
          "data": {
            "text/plain": [
              "XGBClassifier(base_score=0.5, booster='gbtree', colsample_bylevel=1,\n",
              "              colsample_bynode=1, colsample_bytree=1, eval_metric='mlogloss',\n",
              "              gamma=0, learning_rate=0.1, max_delta_step=0, max_depth=3,\n",
              "              min_child_weight=1, missing=None, n_estimators=100, n_jobs=1,\n",
              "              nthread=None, num_class=3, objective='multi:softprob',\n",
              "              random_state=0, reg_alpha=0, reg_lambda=1, scale_pos_weight=1,\n",
              "              seed=None, silent=None, subsample=1, verbosity=1)"
            ]
          },
          "metadata": {
            "tags": []
          },
          "execution_count": 47
        }
      ]
    },
    {
      "cell_type": "code",
      "metadata": {
        "colab": {
          "base_uri": "https://localhost:8080/",
          "height": 1000
        },
        "id": "97A5CJklhG5t",
        "outputId": "28f314ad-9ded-40a7-9ca6-cce59b824abc"
      },
      "source": [
        "from scipy import stats\r\n",
        "from xgboost import XGBClassifier\r\n",
        "from sklearn.model_selection import RandomizedSearchCV, KFold\r\n",
        "from sklearn.metrics import f1_score\r\n",
        "\r\n",
        "xgbmodel = XGBClassifier(objective = \"multi:softprob\", num_class = 3) \r\n",
        "\r\n",
        "param_dist = {'n_estimators': stats.randint(150, 500),\r\n",
        "              'learning_rate': stats.uniform(0.01, 0.07),\r\n",
        "              'subsample': stats.uniform(0.3, 0.7),\r\n",
        "              'max_depth': [3, 4, 5, 6, 7, 8, 9],\r\n",
        "              'colsample_bytree': stats.uniform(0.5, 0.45),\r\n",
        "              'min_child_weight': [1, 2, 3]\r\n",
        "             }\r\n",
        "clf = RandomizedSearchCV(xgbmodel, param_distributions = param_dist, n_iter = 25, scoring = 'f1', error_score = 0, verbose = 3, n_jobs = -1)\r\n",
        "\r\n",
        "numFolds = 5\r\n",
        "folds = KFold(n_splits = numFolds, shuffle = True)\r\n",
        "\r\n",
        "estimators = []\r\n",
        "results = np.zeros(len(X_bal))\r\n",
        "score = 0.0\r\n",
        "for train_index, test_index in folds.split(X_bal):\r\n",
        "    clf.fit(X_train, y_train)\r\n",
        "\r\n",
        "    estimators.append(clf.best_estimator_)\r\n",
        "    results[test_index] = clf.predict(X_test)\r\n",
        "    score += f1_score(y_test, results[test_index])\r\n",
        "\r\n",
        "score /= numFolds"
      ],
      "execution_count": null,
      "outputs": [
        {
          "output_type": "stream",
          "text": [
            "Fitting 5 folds for each of 25 candidates, totalling 125 fits\n"
          ],
          "name": "stdout"
        },
        {
          "output_type": "stream",
          "text": [
            "[Parallel(n_jobs=-1)]: Using backend LokyBackend with 2 concurrent workers.\n"
          ],
          "name": "stderr"
        },
        {
          "output_type": "error",
          "ename": "ValueError",
          "evalue": "ignored",
          "traceback": [
            "\u001b[0;31m---------------------------------------------------------------------------\u001b[0m",
            "\u001b[0;31m_RemoteTraceback\u001b[0m                          Traceback (most recent call last)",
            "\u001b[0;31m_RemoteTraceback\u001b[0m: \n\"\"\"\nTraceback (most recent call last):\n  File \"/usr/local/lib/python3.6/dist-packages/joblib/externals/loky/process_executor.py\", line 431, in _process_worker\n    r = call_item()\n  File \"/usr/local/lib/python3.6/dist-packages/joblib/externals/loky/process_executor.py\", line 285, in __call__\n    return self.fn(*self.args, **self.kwargs)\n  File \"/usr/local/lib/python3.6/dist-packages/joblib/_parallel_backends.py\", line 595, in __call__\n    return self.func(*args, **kwargs)\n  File \"/usr/local/lib/python3.6/dist-packages/joblib/parallel.py\", line 263, in __call__\n    for func, args, kwargs in self.items]\n  File \"/usr/local/lib/python3.6/dist-packages/joblib/parallel.py\", line 263, in <listcomp>\n    for func, args, kwargs in self.items]\n  File \"/usr/local/lib/python3.6/dist-packages/sklearn/model_selection/_validation.py\", line 544, in _fit_and_score\n    test_scores = _score(estimator, X_test, y_test, scorer)\n  File \"/usr/local/lib/python3.6/dist-packages/sklearn/model_selection/_validation.py\", line 591, in _score\n    scores = scorer(estimator, X_test, y_test)\n  File \"/usr/local/lib/python3.6/dist-packages/sklearn/metrics/_scorer.py\", line 87, in __call__\n    *args, **kwargs)\n  File \"/usr/local/lib/python3.6/dist-packages/sklearn/metrics/_scorer.py\", line 212, in _score\n    **self._kwargs)\n  File \"/usr/local/lib/python3.6/dist-packages/sklearn/metrics/_classification.py\", line 1099, in f1_score\n    zero_division=zero_division)\n  File \"/usr/local/lib/python3.6/dist-packages/sklearn/metrics/_classification.py\", line 1226, in fbeta_score\n    zero_division=zero_division)\n  File \"/usr/local/lib/python3.6/dist-packages/sklearn/metrics/_classification.py\", line 1484, in precision_recall_fscore_support\n    pos_label)\n  File \"/usr/local/lib/python3.6/dist-packages/sklearn/metrics/_classification.py\", line 1316, in _check_set_wise_labels\n    % (y_type, average_options))\nValueError: Target is multiclass but average='binary'. Please choose another average setting, one of [None, 'micro', 'macro', 'weighted'].\n\"\"\"",
            "\nThe above exception was the direct cause of the following exception:\n",
            "\u001b[0;31mValueError\u001b[0m                                Traceback (most recent call last)",
            "\u001b[0;32m<ipython-input-52-eda1b21770ef>\u001b[0m in \u001b[0;36m<module>\u001b[0;34m()\u001b[0m\n\u001b[1;32m     22\u001b[0m \u001b[0mscore\u001b[0m \u001b[0;34m=\u001b[0m \u001b[0;36m0.0\u001b[0m\u001b[0;34m\u001b[0m\u001b[0;34m\u001b[0m\u001b[0m\n\u001b[1;32m     23\u001b[0m \u001b[0;32mfor\u001b[0m \u001b[0mtrain_index\u001b[0m\u001b[0;34m,\u001b[0m \u001b[0mtest_index\u001b[0m \u001b[0;32min\u001b[0m \u001b[0mfolds\u001b[0m\u001b[0;34m.\u001b[0m\u001b[0msplit\u001b[0m\u001b[0;34m(\u001b[0m\u001b[0mX_bal\u001b[0m\u001b[0;34m)\u001b[0m\u001b[0;34m:\u001b[0m\u001b[0;34m\u001b[0m\u001b[0;34m\u001b[0m\u001b[0m\n\u001b[0;32m---> 24\u001b[0;31m     \u001b[0mclf\u001b[0m\u001b[0;34m.\u001b[0m\u001b[0mfit\u001b[0m\u001b[0;34m(\u001b[0m\u001b[0mX_train\u001b[0m\u001b[0;34m,\u001b[0m \u001b[0my_train\u001b[0m\u001b[0;34m)\u001b[0m\u001b[0;34m\u001b[0m\u001b[0;34m\u001b[0m\u001b[0m\n\u001b[0m\u001b[1;32m     25\u001b[0m \u001b[0;34m\u001b[0m\u001b[0m\n\u001b[1;32m     26\u001b[0m     \u001b[0mestimators\u001b[0m\u001b[0;34m.\u001b[0m\u001b[0mappend\u001b[0m\u001b[0;34m(\u001b[0m\u001b[0mclf\u001b[0m\u001b[0;34m.\u001b[0m\u001b[0mbest_estimator_\u001b[0m\u001b[0;34m)\u001b[0m\u001b[0;34m\u001b[0m\u001b[0;34m\u001b[0m\u001b[0m\n",
            "\u001b[0;32m/usr/local/lib/python3.6/dist-packages/sklearn/model_selection/_search.py\u001b[0m in \u001b[0;36mfit\u001b[0;34m(self, X, y, groups, **fit_params)\u001b[0m\n\u001b[1;32m    708\u001b[0m                 \u001b[0;32mreturn\u001b[0m \u001b[0mresults\u001b[0m\u001b[0;34m\u001b[0m\u001b[0;34m\u001b[0m\u001b[0m\n\u001b[1;32m    709\u001b[0m \u001b[0;34m\u001b[0m\u001b[0m\n\u001b[0;32m--> 710\u001b[0;31m             \u001b[0mself\u001b[0m\u001b[0;34m.\u001b[0m\u001b[0m_run_search\u001b[0m\u001b[0;34m(\u001b[0m\u001b[0mevaluate_candidates\u001b[0m\u001b[0;34m)\u001b[0m\u001b[0;34m\u001b[0m\u001b[0;34m\u001b[0m\u001b[0m\n\u001b[0m\u001b[1;32m    711\u001b[0m \u001b[0;34m\u001b[0m\u001b[0m\n\u001b[1;32m    712\u001b[0m         \u001b[0;31m# For multi-metric evaluation, store the best_index_, best_params_ and\u001b[0m\u001b[0;34m\u001b[0m\u001b[0;34m\u001b[0m\u001b[0;34m\u001b[0m\u001b[0m\n",
            "\u001b[0;32m/usr/local/lib/python3.6/dist-packages/sklearn/model_selection/_search.py\u001b[0m in \u001b[0;36m_run_search\u001b[0;34m(self, evaluate_candidates)\u001b[0m\n\u001b[1;32m   1482\u001b[0m         evaluate_candidates(ParameterSampler(\n\u001b[1;32m   1483\u001b[0m             \u001b[0mself\u001b[0m\u001b[0;34m.\u001b[0m\u001b[0mparam_distributions\u001b[0m\u001b[0;34m,\u001b[0m \u001b[0mself\u001b[0m\u001b[0;34m.\u001b[0m\u001b[0mn_iter\u001b[0m\u001b[0;34m,\u001b[0m\u001b[0;34m\u001b[0m\u001b[0;34m\u001b[0m\u001b[0m\n\u001b[0;32m-> 1484\u001b[0;31m             random_state=self.random_state))\n\u001b[0m",
            "\u001b[0;32m/usr/local/lib/python3.6/dist-packages/sklearn/model_selection/_search.py\u001b[0m in \u001b[0;36mevaluate_candidates\u001b[0;34m(candidate_params)\u001b[0m\n\u001b[1;32m    687\u001b[0m                                \u001b[0;32mfor\u001b[0m \u001b[0mparameters\u001b[0m\u001b[0;34m,\u001b[0m \u001b[0;34m(\u001b[0m\u001b[0mtrain\u001b[0m\u001b[0;34m,\u001b[0m \u001b[0mtest\u001b[0m\u001b[0;34m)\u001b[0m\u001b[0;34m\u001b[0m\u001b[0;34m\u001b[0m\u001b[0m\n\u001b[1;32m    688\u001b[0m                                in product(candidate_params,\n\u001b[0;32m--> 689\u001b[0;31m                                           cv.split(X, y, groups)))\n\u001b[0m\u001b[1;32m    690\u001b[0m \u001b[0;34m\u001b[0m\u001b[0m\n\u001b[1;32m    691\u001b[0m                 \u001b[0;32mif\u001b[0m \u001b[0mlen\u001b[0m\u001b[0;34m(\u001b[0m\u001b[0mout\u001b[0m\u001b[0;34m)\u001b[0m \u001b[0;34m<\u001b[0m \u001b[0;36m1\u001b[0m\u001b[0;34m:\u001b[0m\u001b[0;34m\u001b[0m\u001b[0;34m\u001b[0m\u001b[0m\n",
            "\u001b[0;32m/usr/local/lib/python3.6/dist-packages/joblib/parallel.py\u001b[0m in \u001b[0;36m__call__\u001b[0;34m(self, iterable)\u001b[0m\n\u001b[1;32m   1059\u001b[0m \u001b[0;34m\u001b[0m\u001b[0m\n\u001b[1;32m   1060\u001b[0m             \u001b[0;32mwith\u001b[0m \u001b[0mself\u001b[0m\u001b[0;34m.\u001b[0m\u001b[0m_backend\u001b[0m\u001b[0;34m.\u001b[0m\u001b[0mretrieval_context\u001b[0m\u001b[0;34m(\u001b[0m\u001b[0;34m)\u001b[0m\u001b[0;34m:\u001b[0m\u001b[0;34m\u001b[0m\u001b[0;34m\u001b[0m\u001b[0m\n\u001b[0;32m-> 1061\u001b[0;31m                 \u001b[0mself\u001b[0m\u001b[0;34m.\u001b[0m\u001b[0mretrieve\u001b[0m\u001b[0;34m(\u001b[0m\u001b[0;34m)\u001b[0m\u001b[0;34m\u001b[0m\u001b[0;34m\u001b[0m\u001b[0m\n\u001b[0m\u001b[1;32m   1062\u001b[0m             \u001b[0;31m# Make sure that we get a last message telling us we are done\u001b[0m\u001b[0;34m\u001b[0m\u001b[0;34m\u001b[0m\u001b[0;34m\u001b[0m\u001b[0m\n\u001b[1;32m   1063\u001b[0m             \u001b[0melapsed_time\u001b[0m \u001b[0;34m=\u001b[0m \u001b[0mtime\u001b[0m\u001b[0;34m.\u001b[0m\u001b[0mtime\u001b[0m\u001b[0;34m(\u001b[0m\u001b[0;34m)\u001b[0m \u001b[0;34m-\u001b[0m \u001b[0mself\u001b[0m\u001b[0;34m.\u001b[0m\u001b[0m_start_time\u001b[0m\u001b[0;34m\u001b[0m\u001b[0;34m\u001b[0m\u001b[0m\n",
            "\u001b[0;32m/usr/local/lib/python3.6/dist-packages/joblib/parallel.py\u001b[0m in \u001b[0;36mretrieve\u001b[0;34m(self)\u001b[0m\n\u001b[1;32m    938\u001b[0m             \u001b[0;32mtry\u001b[0m\u001b[0;34m:\u001b[0m\u001b[0;34m\u001b[0m\u001b[0;34m\u001b[0m\u001b[0m\n\u001b[1;32m    939\u001b[0m                 \u001b[0;32mif\u001b[0m \u001b[0mgetattr\u001b[0m\u001b[0;34m(\u001b[0m\u001b[0mself\u001b[0m\u001b[0;34m.\u001b[0m\u001b[0m_backend\u001b[0m\u001b[0;34m,\u001b[0m \u001b[0;34m'supports_timeout'\u001b[0m\u001b[0;34m,\u001b[0m \u001b[0;32mFalse\u001b[0m\u001b[0;34m)\u001b[0m\u001b[0;34m:\u001b[0m\u001b[0;34m\u001b[0m\u001b[0;34m\u001b[0m\u001b[0m\n\u001b[0;32m--> 940\u001b[0;31m                     \u001b[0mself\u001b[0m\u001b[0;34m.\u001b[0m\u001b[0m_output\u001b[0m\u001b[0;34m.\u001b[0m\u001b[0mextend\u001b[0m\u001b[0;34m(\u001b[0m\u001b[0mjob\u001b[0m\u001b[0;34m.\u001b[0m\u001b[0mget\u001b[0m\u001b[0;34m(\u001b[0m\u001b[0mtimeout\u001b[0m\u001b[0;34m=\u001b[0m\u001b[0mself\u001b[0m\u001b[0;34m.\u001b[0m\u001b[0mtimeout\u001b[0m\u001b[0;34m)\u001b[0m\u001b[0;34m)\u001b[0m\u001b[0;34m\u001b[0m\u001b[0;34m\u001b[0m\u001b[0m\n\u001b[0m\u001b[1;32m    941\u001b[0m                 \u001b[0;32melse\u001b[0m\u001b[0;34m:\u001b[0m\u001b[0;34m\u001b[0m\u001b[0;34m\u001b[0m\u001b[0m\n\u001b[1;32m    942\u001b[0m                     \u001b[0mself\u001b[0m\u001b[0;34m.\u001b[0m\u001b[0m_output\u001b[0m\u001b[0;34m.\u001b[0m\u001b[0mextend\u001b[0m\u001b[0;34m(\u001b[0m\u001b[0mjob\u001b[0m\u001b[0;34m.\u001b[0m\u001b[0mget\u001b[0m\u001b[0;34m(\u001b[0m\u001b[0;34m)\u001b[0m\u001b[0;34m)\u001b[0m\u001b[0;34m\u001b[0m\u001b[0;34m\u001b[0m\u001b[0m\n",
            "\u001b[0;32m/usr/local/lib/python3.6/dist-packages/joblib/_parallel_backends.py\u001b[0m in \u001b[0;36mwrap_future_result\u001b[0;34m(future, timeout)\u001b[0m\n\u001b[1;32m    540\u001b[0m         AsyncResults.get from multiprocessing.\"\"\"\n\u001b[1;32m    541\u001b[0m         \u001b[0;32mtry\u001b[0m\u001b[0;34m:\u001b[0m\u001b[0;34m\u001b[0m\u001b[0;34m\u001b[0m\u001b[0m\n\u001b[0;32m--> 542\u001b[0;31m             \u001b[0;32mreturn\u001b[0m \u001b[0mfuture\u001b[0m\u001b[0;34m.\u001b[0m\u001b[0mresult\u001b[0m\u001b[0;34m(\u001b[0m\u001b[0mtimeout\u001b[0m\u001b[0;34m=\u001b[0m\u001b[0mtimeout\u001b[0m\u001b[0;34m)\u001b[0m\u001b[0;34m\u001b[0m\u001b[0;34m\u001b[0m\u001b[0m\n\u001b[0m\u001b[1;32m    543\u001b[0m         \u001b[0;32mexcept\u001b[0m \u001b[0mCfTimeoutError\u001b[0m \u001b[0;32mas\u001b[0m \u001b[0me\u001b[0m\u001b[0;34m:\u001b[0m\u001b[0;34m\u001b[0m\u001b[0;34m\u001b[0m\u001b[0m\n\u001b[1;32m    544\u001b[0m             \u001b[0;32mraise\u001b[0m \u001b[0mTimeoutError\u001b[0m \u001b[0;32mfrom\u001b[0m \u001b[0me\u001b[0m\u001b[0;34m\u001b[0m\u001b[0;34m\u001b[0m\u001b[0m\n",
            "\u001b[0;32m/usr/lib/python3.6/concurrent/futures/_base.py\u001b[0m in \u001b[0;36mresult\u001b[0;34m(self, timeout)\u001b[0m\n\u001b[1;32m    430\u001b[0m                 \u001b[0;32mraise\u001b[0m \u001b[0mCancelledError\u001b[0m\u001b[0;34m(\u001b[0m\u001b[0;34m)\u001b[0m\u001b[0;34m\u001b[0m\u001b[0;34m\u001b[0m\u001b[0m\n\u001b[1;32m    431\u001b[0m             \u001b[0;32melif\u001b[0m \u001b[0mself\u001b[0m\u001b[0;34m.\u001b[0m\u001b[0m_state\u001b[0m \u001b[0;34m==\u001b[0m \u001b[0mFINISHED\u001b[0m\u001b[0;34m:\u001b[0m\u001b[0;34m\u001b[0m\u001b[0;34m\u001b[0m\u001b[0m\n\u001b[0;32m--> 432\u001b[0;31m                 \u001b[0;32mreturn\u001b[0m \u001b[0mself\u001b[0m\u001b[0;34m.\u001b[0m\u001b[0m__get_result\u001b[0m\u001b[0;34m(\u001b[0m\u001b[0;34m)\u001b[0m\u001b[0;34m\u001b[0m\u001b[0;34m\u001b[0m\u001b[0m\n\u001b[0m\u001b[1;32m    433\u001b[0m             \u001b[0;32melse\u001b[0m\u001b[0;34m:\u001b[0m\u001b[0;34m\u001b[0m\u001b[0;34m\u001b[0m\u001b[0m\n\u001b[1;32m    434\u001b[0m                 \u001b[0;32mraise\u001b[0m \u001b[0mTimeoutError\u001b[0m\u001b[0;34m(\u001b[0m\u001b[0;34m)\u001b[0m\u001b[0;34m\u001b[0m\u001b[0;34m\u001b[0m\u001b[0m\n",
            "\u001b[0;32m/usr/lib/python3.6/concurrent/futures/_base.py\u001b[0m in \u001b[0;36m__get_result\u001b[0;34m(self)\u001b[0m\n\u001b[1;32m    382\u001b[0m     \u001b[0;32mdef\u001b[0m \u001b[0m__get_result\u001b[0m\u001b[0;34m(\u001b[0m\u001b[0mself\u001b[0m\u001b[0;34m)\u001b[0m\u001b[0;34m:\u001b[0m\u001b[0;34m\u001b[0m\u001b[0;34m\u001b[0m\u001b[0m\n\u001b[1;32m    383\u001b[0m         \u001b[0;32mif\u001b[0m \u001b[0mself\u001b[0m\u001b[0;34m.\u001b[0m\u001b[0m_exception\u001b[0m\u001b[0;34m:\u001b[0m\u001b[0;34m\u001b[0m\u001b[0;34m\u001b[0m\u001b[0m\n\u001b[0;32m--> 384\u001b[0;31m             \u001b[0;32mraise\u001b[0m \u001b[0mself\u001b[0m\u001b[0;34m.\u001b[0m\u001b[0m_exception\u001b[0m\u001b[0;34m\u001b[0m\u001b[0;34m\u001b[0m\u001b[0m\n\u001b[0m\u001b[1;32m    385\u001b[0m         \u001b[0;32melse\u001b[0m\u001b[0;34m:\u001b[0m\u001b[0;34m\u001b[0m\u001b[0;34m\u001b[0m\u001b[0m\n\u001b[1;32m    386\u001b[0m             \u001b[0;32mreturn\u001b[0m \u001b[0mself\u001b[0m\u001b[0;34m.\u001b[0m\u001b[0m_result\u001b[0m\u001b[0;34m\u001b[0m\u001b[0;34m\u001b[0m\u001b[0m\n",
            "\u001b[0;31mValueError\u001b[0m: Target is multiclass but average='binary'. Please choose another average setting, one of [None, 'micro', 'macro', 'weighted']."
          ]
        }
      ]
    },
    {
      "cell_type": "code",
      "metadata": {
        "colab": {
          "base_uri": "https://localhost:8080/"
        },
        "id": "abxYx8reDv06",
        "outputId": "c3f18b3e-e95a-4028-96aa-b43a086b5159"
      },
      "source": [
        "y_pred = model.predict(X_test) \r\n",
        "\r\n",
        "predictions = [round(value) for value in y_pred]\r\n",
        "\r\n",
        "accuracy = accuracy_score(y_test, predictions) \r\n",
        "\r\n",
        "print(\"Accuracy: %.2f%%\" % (accuracy * 100.0))"
      ],
      "execution_count": null,
      "outputs": [
        {
          "output_type": "stream",
          "text": [
            "Accuracy: 63.28%\n"
          ],
          "name": "stdout"
        }
      ]
    },
    {
      "cell_type": "code",
      "metadata": {
        "colab": {
          "base_uri": "https://localhost:8080/"
        },
        "id": "Q3zxL5avEaT9",
        "outputId": "3d68a4b4-0013-4388-a85c-8b64a2ed3f2b"
      },
      "source": [
        "from sklearn.metrics import classification_report, confusion_matrix\r\n",
        "\r\n",
        "print(classification_report(y_test, predictions))"
      ],
      "execution_count": null,
      "outputs": [
        {
          "output_type": "stream",
          "text": [
            "              precision    recall  f1-score   support\n",
            "\n",
            "           0       0.69      0.54      0.61      5115\n",
            "           1       0.55      0.62      0.58      8698\n",
            "           2       0.70      0.69      0.69      9205\n",
            "\n",
            "    accuracy                           0.63     23018\n",
            "   macro avg       0.65      0.62      0.63     23018\n",
            "weighted avg       0.64      0.63      0.63     23018\n",
            "\n"
          ],
          "name": "stdout"
        }
      ]
    },
    {
      "cell_type": "code",
      "metadata": {
        "colab": {
          "base_uri": "https://localhost:8080/",
          "height": 387
        },
        "id": "NXPWjwsTxUzs",
        "outputId": "4b39b9e0-cbea-4344-cc14-9a6250ec1b71"
      },
      "source": [
        "f, ax = plt.subplots(figsize=(10,5))\r\n",
        "plot = sns.barplot(x=column_names, y=model.feature_importances_)\r\n",
        "ax.set_title('Feature Importance')\r\n",
        "plot.set_xticklabels(plot.get_xticklabels(),rotation='vertical')\r\n",
        "plt.show()"
      ],
      "execution_count": null,
      "outputs": [
        {
          "output_type": "display_data",
          "data": {
            "image/png": "[encoded data removed]",
            "text/plain": [
              "<Figure size 720x360 with 1 Axes>"
            ]
          },
          "metadata": {
            "tags": [],
            "needs_background": "light"
          }
        }
      ]
    },
    {
      "cell_type": "code",
      "metadata": {
        "id": "Z9uEgm68DC9K"
      },
      "source": [
        "import itertools\r\n",
        "class_names = ['Low Risk','Medium Risk','High Risk']\r\n",
        "matrix = confusion_matrix(y_test,y_pred)\r\n",
        "   \r\n",
        "plt.clf()\r\n",
        "\r\n",
        "# place labels at the top\r\n",
        "plt.gca().xaxis.tick_top()\r\n",
        "plt.gca().xaxis.set_label_position('top')\r\n",
        "\r\n",
        "# plot the matrix per se\r\n",
        "plt.imshow(matrix, interpolation='nearest', cmap=plt.cm.Blues)\r\n",
        "\r\n",
        "# plot colorbar to the right\r\n",
        "plt.colorbar()\r\n",
        "    \r\n",
        "fmt = 'd'\r\n",
        "\r\n",
        "# write the number of predictions in each bucket\r\n",
        "thresh = matrix.max() / 2.\r\n",
        "for i, j in itertools.product(range(matrix.shape[0]), range(matrix.shape[1])):\r\n",
        "\r\n",
        "    # if background is dark, use a white number, and vice-versa\r\n",
        "    plt.text(j, i, format(matrix[i, j], fmt),\r\n",
        "         horizontalalignment=\"center\",\r\n",
        "         color=\"white\" if matrix[i, j] > thresh else \"black\")\r\n",
        "\r\n",
        "tick_marks = np.arange(len(class_names))\r\n",
        "plt.xticks(tick_marks, class_names, rotation=45)\r\n",
        "plt.yticks(tick_marks, class_names)\r\n",
        "plt.tight_layout()\r\n",
        "plt.ylabel('True label',size=14)\r\n",
        "plt.xlabel('Predicted label',size=14)\r\n",
        "plt.show()"
      ],
      "execution_count": null,
      "outputs": []
    },
    {
      "cell_type": "markdown",
      "metadata": {
        "id": "ID4j9P-dL-gv"
      },
      "source": [
        "**SVM Classifier OneVsOne**"
      ]
    },
    {
      "cell_type": "code",
      "metadata": {
        "id": "ItvqOtC_MEMp"
      },
      "source": [
        "# SVM for multi-class classification using one-vs-one\r\n",
        "from sklearn.datasets import make_classification\r\n",
        "from sklearn.svm import SVC\r\n",
        "from sklearn.multiclass import OneVsOneClassifier"
      ],
      "execution_count": null,
      "outputs": []
    },
    {
      "cell_type": "code",
      "metadata": {
        "id": "C8oOKzf1L9-6"
      },
      "source": [
        "# define model\r\n",
        "model = SVC(kernel='linear')\r\n",
        "# define ovo strategy\r\n",
        "ovo = OneVsOneClassifier(model)\r\n",
        "# fit model\r\n",
        "ovo.fit(X_train, y_train)\r\n"
      ],
      "execution_count": null,
      "outputs": []
    },
    {
      "cell_type": "code",
      "metadata": {
        "id": "7rU1MsaYNamQ"
      },
      "source": [
        "# make predictions\r\n",
        "y_pred = ovo.predict(X_test) "
      ],
      "execution_count": null,
      "outputs": []
    },
    {
      "cell_type": "code",
      "metadata": {
        "colab": {
          "base_uri": "https://localhost:8080/"
        },
        "id": "5fOv4Kp7No94",
        "outputId": "bcd6adc5-4748-4b1f-e017-10b4aa23d19e"
      },
      "source": [
        "predictions = [round(value) for value in y_pred]\r\n",
        "\r\n",
        "accuracy = accuracy_score(y_test, predictions) \r\n",
        "\r\n",
        "print(\"Accuracy: %.2f%%\" % (accuracy * 100.0))"
      ],
      "execution_count": null,
      "outputs": [
        {
          "output_type": "stream",
          "text": [
            "Accuracy: 91.95%\n"
          ],
          "name": "stdout"
        }
      ]
    },
    {
      "cell_type": "code",
      "metadata": {
        "colab": {
          "base_uri": "https://localhost:8080/"
        },
        "id": "io7yiHJGNweA",
        "outputId": "c4846461-48dd-4406-b178-30b44983b298"
      },
      "source": [
        "print(classification_report(y_test, predictions))"
      ],
      "execution_count": null,
      "outputs": [
        {
          "output_type": "stream",
          "text": [
            "              precision    recall  f1-score   support\n",
            "\n",
            "           0       0.92      1.00      0.96     18648\n",
            "           1       0.00      0.00      0.00      1293\n",
            "           2       0.00      0.00      0.00       339\n",
            "\n",
            "    accuracy                           0.92     20280\n",
            "   macro avg       0.31      0.33      0.32     20280\n",
            "weighted avg       0.85      0.92      0.88     20280\n",
            "\n"
          ],
          "name": "stdout"
        },
        {
          "output_type": "stream",
          "text": [
            "/usr/local/lib/python3.6/dist-packages/sklearn/metrics/_classification.py:1272: UndefinedMetricWarning: Precision and F-score are ill-defined and being set to 0.0 in labels with no predicted samples. Use `zero_division` parameter to control this behavior.\n",
            "  _warn_prf(average, modifier, msg_start, len(result))\n"
          ],
          "name": "stderr"
        }
      ]
    },
    {
      "cell_type": "code",
      "metadata": {
        "id": "ue3SCvNhOTu_"
      },
      "source": [
        "def f_importances(coef, names, top=-1):\r\n",
        "    imp = coef\r\n",
        "    imp, names = zip(*sorted(list(zip(imp, names))))\r\n",
        "\r\n",
        "    # Show all features\r\n",
        "    if top == -1:\r\n",
        "        top = len(names)\r\n",
        "\r\n",
        "    plt.barh(range(top), imp[::-1][0:top], align='center')\r\n",
        "    plt.yticks(range(top), names[::-1][0:top])\r\n",
        "    plt.show()"
      ],
      "execution_count": null,
      "outputs": []
    },
    {
      "cell_type": "code",
      "metadata": {
        "id": "1CXbQ1zZPh-f"
      },
      "source": [
        "# Specify your top n features you want to visualize.\r\n",
        "# You can also discard the abs() function \r\n",
        "# if you are interested in negative contribution of features\r\n",
        "f_importances(abs(ovo.estimator.coef_[0]), column_names, top=10)"
      ],
      "execution_count": null,
      "outputs": []
    },
    {
      "cell_type": "markdown",
      "metadata": {
        "id": "EHxEO47_MoIB"
      },
      "source": [
        "**Decision Tree Classifier**"
      ]
    },
    {
      "cell_type": "code",
      "metadata": {
        "colab": {
          "base_uri": "https://localhost:8080/"
        },
        "id": "yP8gIBNDehDP",
        "outputId": "9cf0bc54-cac4-4d1c-d6d6-afd46bc940c3"
      },
      "source": [
        "from imblearn.ensemble import BalancedBaggingClassifier\r\n",
        "from sklearn.tree import DecisionTreeClassifier\r\n",
        "\r\n",
        "#Create an object of the classifier.\r\n",
        "bbc = BalancedBaggingClassifier(base_estimator=DecisionTreeClassifier(),\r\n",
        "                                sampling_strategy='auto',\r\n",
        "                                replacement=False,\r\n",
        "                                random_state=0)"
      ],
      "execution_count": null,
      "outputs": [
        {
          "output_type": "stream",
          "text": [
            "/usr/local/lib/python3.6/dist-packages/sklearn/utils/deprecation.py:144: FutureWarning: The sklearn.ensemble.bagging module is  deprecated in version 0.22 and will be removed in version 0.24. The corresponding classes / functions should instead be imported from sklearn.ensemble. Anything that cannot be imported from sklearn.ensemble is now part of the private API.\n",
            "  warnings.warn(message, FutureWarning)\n",
            "/usr/local/lib/python3.6/dist-packages/sklearn/utils/deprecation.py:144: FutureWarning: The sklearn.ensemble.base module is  deprecated in version 0.22 and will be removed in version 0.24. The corresponding classes / functions should instead be imported from sklearn.ensemble. Anything that cannot be imported from sklearn.ensemble is now part of the private API.\n",
            "  warnings.warn(message, FutureWarning)\n",
            "/usr/local/lib/python3.6/dist-packages/sklearn/utils/deprecation.py:144: FutureWarning: The sklearn.ensemble.forest module is  deprecated in version 0.22 and will be removed in version 0.24. The corresponding classes / functions should instead be imported from sklearn.ensemble. Anything that cannot be imported from sklearn.ensemble is now part of the private API.\n",
            "  warnings.warn(message, FutureWarning)\n",
            "/usr/local/lib/python3.6/dist-packages/sklearn/externals/joblib/__init__.py:15: FutureWarning: sklearn.externals.joblib is deprecated in 0.21 and will be removed in 0.23. Please import this functionality directly from joblib, which can be installed with: pip install joblib. If this warning is raised when loading pickled models, you may need to re-serialize those models with scikit-learn 0.21+.\n",
            "  warnings.warn(msg, category=FutureWarning)\n"
          ],
          "name": "stderr"
        }
      ]
    },
    {
      "cell_type": "code",
      "metadata": {
        "colab": {
          "base_uri": "https://localhost:8080/"
        },
        "id": "Fh5vDplxeo5m",
        "outputId": "0090f9f1-f521-4b67-e8ad-04ba611c7417"
      },
      "source": [
        "bbc.fit(X_train, y_train)\r\n"
      ],
      "execution_count": null,
      "outputs": [
        {
          "output_type": "stream",
          "text": [
            "/usr/local/lib/python3.6/dist-packages/sklearn/utils/deprecation.py:87: FutureWarning: Function safe_indexing is deprecated; safe_indexing is deprecated in version 0.22 and will be removed in version 0.24.\n",
            "  warnings.warn(msg, category=FutureWarning)\n",
            "/usr/local/lib/python3.6/dist-packages/sklearn/utils/deprecation.py:87: FutureWarning: Function safe_indexing is deprecated; safe_indexing is deprecated in version 0.22 and will be removed in version 0.24.\n",
            "  warnings.warn(msg, category=FutureWarning)\n",
            "/usr/local/lib/python3.6/dist-packages/sklearn/utils/deprecation.py:87: FutureWarning: Function safe_indexing is deprecated; safe_indexing is deprecated in version 0.22 and will be removed in version 0.24.\n",
            "  warnings.warn(msg, category=FutureWarning)\n",
            "/usr/local/lib/python3.6/dist-packages/sklearn/utils/deprecation.py:87: FutureWarning: Function safe_indexing is deprecated; safe_indexing is deprecated in version 0.22 and will be removed in version 0.24.\n",
            "  warnings.warn(msg, category=FutureWarning)\n",
            "/usr/local/lib/python3.6/dist-packages/sklearn/utils/deprecation.py:87: FutureWarning: Function safe_indexing is deprecated; safe_indexing is deprecated in version 0.22 and will be removed in version 0.24.\n",
            "  warnings.warn(msg, category=FutureWarning)\n",
            "/usr/local/lib/python3.6/dist-packages/sklearn/utils/deprecation.py:87: FutureWarning: Function safe_indexing is deprecated; safe_indexing is deprecated in version 0.22 and will be removed in version 0.24.\n",
            "  warnings.warn(msg, category=FutureWarning)\n",
            "/usr/local/lib/python3.6/dist-packages/sklearn/utils/deprecation.py:87: FutureWarning: Function safe_indexing is deprecated; safe_indexing is deprecated in version 0.22 and will be removed in version 0.24.\n",
            "  warnings.warn(msg, category=FutureWarning)\n",
            "/usr/local/lib/python3.6/dist-packages/sklearn/utils/deprecation.py:87: FutureWarning: Function safe_indexing is deprecated; safe_indexing is deprecated in version 0.22 and will be removed in version 0.24.\n",
            "  warnings.warn(msg, category=FutureWarning)\n",
            "/usr/local/lib/python3.6/dist-packages/sklearn/utils/deprecation.py:87: FutureWarning: Function safe_indexing is deprecated; safe_indexing is deprecated in version 0.22 and will be removed in version 0.24.\n",
            "  warnings.warn(msg, category=FutureWarning)\n",
            "/usr/local/lib/python3.6/dist-packages/sklearn/utils/deprecation.py:87: FutureWarning: Function safe_indexing is deprecated; safe_indexing is deprecated in version 0.22 and will be removed in version 0.24.\n",
            "  warnings.warn(msg, category=FutureWarning)\n"
          ],
          "name": "stderr"
        },
        {
          "output_type": "execute_result",
          "data": {
            "text/plain": [
              "BalancedBaggingClassifier(base_estimator=DecisionTreeClassifier(ccp_alpha=0.0,\n",
              "                                                                class_weight=None,\n",
              "                                                                criterion='gini',\n",
              "                                                                max_depth=None,\n",
              "                                                                max_features=None,\n",
              "                                                                max_leaf_nodes=None,\n",
              "                                                                min_impurity_decrease=0.0,\n",
              "                                                                min_impurity_split=None,\n",
              "                                                                min_samples_leaf=1,\n",
              "                                                                min_samples_split=2,\n",
              "                                                                min_weight_fraction_leaf=0.0,\n",
              "                                                                presort='deprecated',\n",
              "                                                                random_state=None,\n",
              "                                                                splitter='best'),\n",
              "                          bootstrap=True, bootstrap_features=False,\n",
              "                          max_features=1.0, max_samples=1.0, n_estimators=10,\n",
              "                          n_jobs=1, oob_score=False, random_state=0, ratio=None,\n",
              "                          replacement=False, sampling_strategy='auto',\n",
              "                          verbose=0, warm_start=False)"
            ]
          },
          "metadata": {
            "tags": []
          },
          "execution_count": 54
        }
      ]
    },
    {
      "cell_type": "code",
      "metadata": {
        "colab": {
          "base_uri": "https://localhost:8080/"
        },
        "id": "-RwdRWu2f3gS",
        "outputId": "b72b2258-a473-4976-abbb-3e0ea80d9bcc"
      },
      "source": [
        "print(preds)"
      ],
      "execution_count": null,
      "outputs": [
        {
          "output_type": "stream",
          "text": [
            "[0 1 0 ... 1 0 0]\n"
          ],
          "name": "stdout"
        }
      ]
    },
    {
      "cell_type": "code",
      "metadata": {
        "colab": {
          "base_uri": "https://localhost:8080/"
        },
        "id": "NwinMadGgCr7",
        "outputId": "86126a33-ae23-4129-d623-2f0b557bb3eb"
      },
      "source": [
        "preds = bbc.predict(X_test)\r\n",
        "predictions = [round(value) for value in preds]\r\n",
        "\r\n",
        "accuracy = accuracy_score(y_test, predictions) \r\n",
        "\r\n",
        "print(\"Accuracy: %.2f%%\" % (accuracy * 100.0))"
      ],
      "execution_count": null,
      "outputs": [
        {
          "output_type": "stream",
          "text": [
            "Accuracy: 95.77%\n"
          ],
          "name": "stdout"
        }
      ]
    },
    {
      "cell_type": "code",
      "metadata": {
        "colab": {
          "base_uri": "https://localhost:8080/"
        },
        "id": "2_BPGwxmgNO2",
        "outputId": "230ea2f8-447c-42c1-85b5-13c4722d1254"
      },
      "source": [
        "from sklearn.metrics import classification_report, confusion_matrix\r\n",
        "\r\n",
        "print(classification_report(y_test, predictions))"
      ],
      "execution_count": null,
      "outputs": [
        {
          "output_type": "stream",
          "text": [
            "              precision    recall  f1-score   support\n",
            "\n",
            "           0       0.93      0.90      0.91      5115\n",
            "           1       0.95      0.95      0.95      8698\n",
            "           2       0.98      0.99      0.99      9205\n",
            "\n",
            "    accuracy                           0.96     23018\n",
            "   macro avg       0.95      0.95      0.95     23018\n",
            "weighted avg       0.96      0.96      0.96     23018\n",
            "\n"
          ],
          "name": "stdout"
        }
      ]
    },
    {
      "cell_type": "code",
      "metadata": {
        "id": "nrGRqdsLgYKX"
      },
      "source": [
        "feature_importance = np.mean([\r\n",
        "    tree.feature_importances for tree in bbc.estimators_\r\n",
        "], axis=0)\r\n",
        "f, ax = plt.subplots(figsize=(10,5))\r\n",
        "plot = sns.barplot(x=column_names, y=feature_importances)\r\n",
        "ax.set_title('Feature Importance')\r\n",
        "plot.set_xticklabels(plot.get_xticklabels(),rotation='vertical')\r\n",
        "plt.show()"
      ],
      "execution_count": null,
      "outputs": []
    },
    {
      "cell_type": "markdown",
      "metadata": {
        "id": "s0dte4VS9OxS"
      },
      "source": [
        "**OneVsREST XGB Classifier**\r\n"
      ]
    },
    {
      "cell_type": "code",
      "metadata": {
        "id": "ZR8C0HZl9aC-"
      },
      "source": [
        "from xgboost import XGBClassifier\r\n",
        "from sklearn.multiclass import OneVsRestClassifier\r\n",
        "\r\n",
        "xgb_classifier = OneVsRestClassifier(XGBClassifier())\r\n",
        "xgb_classifier.fit(np.array(X_train), y_train)"
      ],
      "execution_count": null,
      "outputs": []
    },
    {
      "cell_type": "code",
      "metadata": {
        "id": "utvCYJ99-liF"
      },
      "source": [
        "#Validate the trained model and predict the results\r\n",
        "preds = xgb_classifier.predict(X_test)\r\n",
        "predictions = [round(value) for value in preds]\r\n",
        "\r\n",
        "accuracy = accuracy_score(y_test, predictions) \r\n",
        "\r\n",
        "print(\"Accuracy: %.2f%%\" % (accuracy * 100.0))"
      ],
      "execution_count": null,
      "outputs": []
    },
    {
      "cell_type": "code",
      "metadata": {
        "id": "t3zmBmHD-pBG"
      },
      "source": [
        "#Display the evaluation report\r\n",
        "print(classification_report(y_test, predictions))"
      ],
      "execution_count": null,
      "outputs": []
    }
  ]
}