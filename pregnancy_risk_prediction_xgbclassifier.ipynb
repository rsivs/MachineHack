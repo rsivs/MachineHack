{
  "nbformat": 4,
  "nbformat_minor": 0,
  "metadata": {
    "colab": {
      "name": "pregnancy-risk-prediction_new.ipynb",
      "provenance": [],
      "collapsed_sections": [],
      "include_colab_link": true
    },
    "kernelspec": {
      "name": "python3",
      "display_name": "Python 3"
    }
  },
  "cells": [
    {
      "cell_type": "markdown",
      "metadata": {
        "id": "view-in-github",
        "colab_type": "text"
      },
      "source": [
        "<a href=\"https://colab.research.google.com/github/rsivs/MachineHack/blob/master/pregnancy_risk_prediction_xgbclassifier.ipynb\" target=\"_parent\"><img src=\"https://colab.research.google.com/assets/colab-badge.svg\" alt=\"Open In Colab\"/></a>"
      ]
    },
    {
      "cell_type": "code",
      "metadata": {
        "id": "6Cbh4wL3BtSr"
      },
      "source": [
        "import pandas as pd\n",
        "import numpy as np"
      ],
      "execution_count": 16,
      "outputs": []
    },
    {
      "cell_type": "code",
      "metadata": {
        "id": "WXlMy0Menx6L"
      },
      "source": [
        "# Load the data\n",
        "baby_data_clf=pd.read_csv('baby-weights-dataset2.csv') \n"
      ],
      "execution_count": 17,
      "outputs": []
    },
    {
      "cell_type": "code",
      "metadata": {
        "colab": {
          "base_uri": "https://localhost:8080/"
        },
        "id": "TL953CbUoYm7",
        "outputId": "95d86721-6c42-426b-fe62-096003f50a0a"
      },
      "source": [
        "print(baby_data_clf.head(2))"
      ],
      "execution_count": 18,
      "outputs": [
        {
          "output_type": "stream",
          "text": [
            "     ID  SEX  MARITAL  FAGE  GAINED  ...  PRETERM  RENAL  RHSEN  UTERINE  BWEIGHT\n",
            "0  2001    2        1    33      26  ...        0      0      0        0   4.3750\n",
            "1  2002    2        2    19      40  ...        0      0      0        0   6.9375\n",
            "\n",
            "[2 rows x 37 columns]\n"
          ],
          "name": "stdout"
        }
      ]
    },
    {
      "cell_type": "code",
      "metadata": {
        "id": "KZbVyqAowc2M"
      },
      "source": [
        "def process_bweight(x):\n",
        "  if x > 5.5:\n",
        "    return 0\n",
        "  elif x < 3.5:\n",
        "    return 2 \n",
        "  else:\n",
        "    return 1 \n",
        "\n",
        "baby_data_clf[\"BWEIGHT\"] = baby_data_clf[\"BWEIGHT\"].apply(lambda x : process_bweight(x))"
      ],
      "execution_count": 19,
      "outputs": []
    },
    {
      "cell_type": "code",
      "metadata": {
        "colab": {
          "base_uri": "https://localhost:8080/"
        },
        "id": "1M39HPYmD75p",
        "outputId": "51421a22-4fd6-456c-e2f6-e88bdbec7ed7"
      },
      "source": [
        "print(baby_data_clf.head(10))"
      ],
      "execution_count": 20,
      "outputs": [
        {
          "output_type": "stream",
          "text": [
            "     ID  SEX  MARITAL  FAGE  GAINED  ...  PRETERM  RENAL  RHSEN  UTERINE  BWEIGHT\n",
            "0  2001    2        1    33      26  ...        0      0      0        0        1\n",
            "1  2002    2        2    19      40  ...        0      0      0        0        0\n",
            "2  2003    2        1    33      16  ...        0      0      0        0        0\n",
            "3  2004    1        1    25      40  ...        0      0      0        0        0\n",
            "4  2005    1        2    21      60  ...        0      0      0        0        0\n",
            "5  2006    1        1    21      30  ...        0      0      0        0        0\n",
            "6  2007    1        2    29      20  ...        0      0      0        0        0\n",
            "7  2008    2        2    23      41  ...        0      0      0        0        0\n",
            "8  2009    2        1    27       0  ...        0      0      0        0        0\n",
            "9  2010    1        1    30      30  ...        0      0      0        0        0\n",
            "\n",
            "[10 rows x 37 columns]\n"
          ],
          "name": "stdout"
        }
      ]
    },
    {
      "cell_type": "code",
      "metadata": {
        "id": "L2l5J4I1EeVn"
      },
      "source": [
        "y_data = baby_data_clf[\"BWEIGHT\"]\n",
        "x_data = baby_data_clf.drop(['ID', 'BWEIGHT', 'SEX'], axis=1)"
      ],
      "execution_count": 27,
      "outputs": []
    },
    {
      "cell_type": "code",
      "metadata": {
        "id": "cnr6fB3aFe-_"
      },
      "source": [
        "x_data_dummies = pd.get_dummies(data=x_data, columns=['HISPMOM', 'HISPDAD'])"
      ],
      "execution_count": 28,
      "outputs": []
    },
    {
      "cell_type": "code",
      "metadata": {
        "colab": {
          "base_uri": "https://localhost:8080/",
          "height": 224
        },
        "id": "AOnLx4LsGXtn",
        "outputId": "9d1c72fd-30fd-47ac-b418-9267a6b277ec"
      },
      "source": [
        "x_data_dummies.head()"
      ],
      "execution_count": 29,
      "outputs": [
        {
          "output_type": "execute_result",
          "data": {
            "text/html": [
              "<div>\n",
              "<style scoped>\n",
              "    .dataframe tbody tr th:only-of-type {\n",
              "        vertical-align: middle;\n",
              "    }\n",
              "\n",
              "    .dataframe tbody tr th {\n",
              "        vertical-align: top;\n",
              "    }\n",
              "\n",
              "    .dataframe thead th {\n",
              "        text-align: right;\n",
              "    }\n",
              "</style>\n",
              "<table border=\"1\" class=\"dataframe\">\n",
              "  <thead>\n",
              "    <tr style=\"text-align: right;\">\n",
              "      <th></th>\n",
              "      <th>MARITAL</th>\n",
              "      <th>FAGE</th>\n",
              "      <th>GAINED</th>\n",
              "      <th>VISITS</th>\n",
              "      <th>MAGE</th>\n",
              "      <th>FEDUC</th>\n",
              "      <th>MEDUC</th>\n",
              "      <th>TOTALP</th>\n",
              "      <th>BDEAD</th>\n",
              "      <th>TERMS</th>\n",
              "      <th>LOUTCOME</th>\n",
              "      <th>WEEKS</th>\n",
              "      <th>RACEMOM</th>\n",
              "      <th>RACEDAD</th>\n",
              "      <th>CIGNUM</th>\n",
              "      <th>DRINKNUM</th>\n",
              "      <th>ANEMIA</th>\n",
              "      <th>CARDIAC</th>\n",
              "      <th>ACLUNG</th>\n",
              "      <th>DIABETES</th>\n",
              "      <th>HERPES</th>\n",
              "      <th>HYDRAM</th>\n",
              "      <th>HEMOGLOB</th>\n",
              "      <th>HYPERCH</th>\n",
              "      <th>HYPERPR</th>\n",
              "      <th>ECLAMP</th>\n",
              "      <th>CERVIX</th>\n",
              "      <th>PINFANT</th>\n",
              "      <th>PRETERM</th>\n",
              "      <th>RENAL</th>\n",
              "      <th>RHSEN</th>\n",
              "      <th>UTERINE</th>\n",
              "      <th>HISPMOM_C</th>\n",
              "      <th>HISPMOM_M</th>\n",
              "      <th>HISPMOM_N</th>\n",
              "      <th>HISPMOM_O</th>\n",
              "      <th>HISPMOM_P</th>\n",
              "      <th>HISPMOM_S</th>\n",
              "      <th>HISPMOM_U</th>\n",
              "      <th>HISPDAD_C</th>\n",
              "      <th>HISPDAD_M</th>\n",
              "      <th>HISPDAD_N</th>\n",
              "      <th>HISPDAD_O</th>\n",
              "      <th>HISPDAD_P</th>\n",
              "      <th>HISPDAD_S</th>\n",
              "      <th>HISPDAD_U</th>\n",
              "    </tr>\n",
              "  </thead>\n",
              "  <tbody>\n",
              "    <tr>\n",
              "      <th>0</th>\n",
              "      <td>1</td>\n",
              "      <td>33</td>\n",
              "      <td>26</td>\n",
              "      <td>10</td>\n",
              "      <td>34</td>\n",
              "      <td>12</td>\n",
              "      <td>4</td>\n",
              "      <td>2</td>\n",
              "      <td>0</td>\n",
              "      <td>0</td>\n",
              "      <td>1</td>\n",
              "      <td>35</td>\n",
              "      <td>1</td>\n",
              "      <td>1</td>\n",
              "      <td>0</td>\n",
              "      <td>0</td>\n",
              "      <td>0</td>\n",
              "      <td>0</td>\n",
              "      <td>0</td>\n",
              "      <td>0</td>\n",
              "      <td>0</td>\n",
              "      <td>0</td>\n",
              "      <td>0</td>\n",
              "      <td>0</td>\n",
              "      <td>0</td>\n",
              "      <td>0</td>\n",
              "      <td>0</td>\n",
              "      <td>0</td>\n",
              "      <td>0</td>\n",
              "      <td>0</td>\n",
              "      <td>0</td>\n",
              "      <td>0</td>\n",
              "      <td>0</td>\n",
              "      <td>1</td>\n",
              "      <td>0</td>\n",
              "      <td>0</td>\n",
              "      <td>0</td>\n",
              "      <td>0</td>\n",
              "      <td>0</td>\n",
              "      <td>0</td>\n",
              "      <td>1</td>\n",
              "      <td>0</td>\n",
              "      <td>0</td>\n",
              "      <td>0</td>\n",
              "      <td>0</td>\n",
              "      <td>0</td>\n",
              "    </tr>\n",
              "    <tr>\n",
              "      <th>1</th>\n",
              "      <td>2</td>\n",
              "      <td>19</td>\n",
              "      <td>40</td>\n",
              "      <td>10</td>\n",
              "      <td>18</td>\n",
              "      <td>11</td>\n",
              "      <td>12</td>\n",
              "      <td>1</td>\n",
              "      <td>0</td>\n",
              "      <td>0</td>\n",
              "      <td>9</td>\n",
              "      <td>41</td>\n",
              "      <td>1</td>\n",
              "      <td>1</td>\n",
              "      <td>0</td>\n",
              "      <td>0</td>\n",
              "      <td>0</td>\n",
              "      <td>0</td>\n",
              "      <td>0</td>\n",
              "      <td>0</td>\n",
              "      <td>0</td>\n",
              "      <td>0</td>\n",
              "      <td>0</td>\n",
              "      <td>0</td>\n",
              "      <td>0</td>\n",
              "      <td>0</td>\n",
              "      <td>0</td>\n",
              "      <td>0</td>\n",
              "      <td>0</td>\n",
              "      <td>0</td>\n",
              "      <td>0</td>\n",
              "      <td>0</td>\n",
              "      <td>0</td>\n",
              "      <td>0</td>\n",
              "      <td>1</td>\n",
              "      <td>0</td>\n",
              "      <td>0</td>\n",
              "      <td>0</td>\n",
              "      <td>0</td>\n",
              "      <td>0</td>\n",
              "      <td>0</td>\n",
              "      <td>1</td>\n",
              "      <td>0</td>\n",
              "      <td>0</td>\n",
              "      <td>0</td>\n",
              "      <td>0</td>\n",
              "    </tr>\n",
              "    <tr>\n",
              "      <th>2</th>\n",
              "      <td>1</td>\n",
              "      <td>33</td>\n",
              "      <td>16</td>\n",
              "      <td>14</td>\n",
              "      <td>31</td>\n",
              "      <td>16</td>\n",
              "      <td>16</td>\n",
              "      <td>2</td>\n",
              "      <td>0</td>\n",
              "      <td>0</td>\n",
              "      <td>1</td>\n",
              "      <td>39</td>\n",
              "      <td>1</td>\n",
              "      <td>1</td>\n",
              "      <td>0</td>\n",
              "      <td>0</td>\n",
              "      <td>0</td>\n",
              "      <td>0</td>\n",
              "      <td>0</td>\n",
              "      <td>0</td>\n",
              "      <td>0</td>\n",
              "      <td>0</td>\n",
              "      <td>0</td>\n",
              "      <td>0</td>\n",
              "      <td>0</td>\n",
              "      <td>0</td>\n",
              "      <td>0</td>\n",
              "      <td>0</td>\n",
              "      <td>0</td>\n",
              "      <td>0</td>\n",
              "      <td>0</td>\n",
              "      <td>0</td>\n",
              "      <td>0</td>\n",
              "      <td>0</td>\n",
              "      <td>1</td>\n",
              "      <td>0</td>\n",
              "      <td>0</td>\n",
              "      <td>0</td>\n",
              "      <td>0</td>\n",
              "      <td>0</td>\n",
              "      <td>0</td>\n",
              "      <td>1</td>\n",
              "      <td>0</td>\n",
              "      <td>0</td>\n",
              "      <td>0</td>\n",
              "      <td>0</td>\n",
              "    </tr>\n",
              "    <tr>\n",
              "      <th>3</th>\n",
              "      <td>1</td>\n",
              "      <td>25</td>\n",
              "      <td>40</td>\n",
              "      <td>15</td>\n",
              "      <td>28</td>\n",
              "      <td>12</td>\n",
              "      <td>12</td>\n",
              "      <td>3</td>\n",
              "      <td>0</td>\n",
              "      <td>0</td>\n",
              "      <td>1</td>\n",
              "      <td>38</td>\n",
              "      <td>8</td>\n",
              "      <td>1</td>\n",
              "      <td>0</td>\n",
              "      <td>0</td>\n",
              "      <td>0</td>\n",
              "      <td>0</td>\n",
              "      <td>0</td>\n",
              "      <td>0</td>\n",
              "      <td>0</td>\n",
              "      <td>0</td>\n",
              "      <td>0</td>\n",
              "      <td>0</td>\n",
              "      <td>0</td>\n",
              "      <td>0</td>\n",
              "      <td>0</td>\n",
              "      <td>0</td>\n",
              "      <td>0</td>\n",
              "      <td>0</td>\n",
              "      <td>0</td>\n",
              "      <td>0</td>\n",
              "      <td>0</td>\n",
              "      <td>0</td>\n",
              "      <td>1</td>\n",
              "      <td>0</td>\n",
              "      <td>0</td>\n",
              "      <td>0</td>\n",
              "      <td>0</td>\n",
              "      <td>0</td>\n",
              "      <td>0</td>\n",
              "      <td>1</td>\n",
              "      <td>0</td>\n",
              "      <td>0</td>\n",
              "      <td>0</td>\n",
              "      <td>0</td>\n",
              "    </tr>\n",
              "    <tr>\n",
              "      <th>4</th>\n",
              "      <td>2</td>\n",
              "      <td>21</td>\n",
              "      <td>60</td>\n",
              "      <td>13</td>\n",
              "      <td>20</td>\n",
              "      <td>12</td>\n",
              "      <td>14</td>\n",
              "      <td>2</td>\n",
              "      <td>0</td>\n",
              "      <td>0</td>\n",
              "      <td>1</td>\n",
              "      <td>40</td>\n",
              "      <td>2</td>\n",
              "      <td>2</td>\n",
              "      <td>0</td>\n",
              "      <td>0</td>\n",
              "      <td>0</td>\n",
              "      <td>0</td>\n",
              "      <td>0</td>\n",
              "      <td>0</td>\n",
              "      <td>0</td>\n",
              "      <td>0</td>\n",
              "      <td>0</td>\n",
              "      <td>0</td>\n",
              "      <td>1</td>\n",
              "      <td>0</td>\n",
              "      <td>0</td>\n",
              "      <td>0</td>\n",
              "      <td>0</td>\n",
              "      <td>0</td>\n",
              "      <td>0</td>\n",
              "      <td>0</td>\n",
              "      <td>0</td>\n",
              "      <td>0</td>\n",
              "      <td>1</td>\n",
              "      <td>0</td>\n",
              "      <td>0</td>\n",
              "      <td>0</td>\n",
              "      <td>0</td>\n",
              "      <td>0</td>\n",
              "      <td>0</td>\n",
              "      <td>1</td>\n",
              "      <td>0</td>\n",
              "      <td>0</td>\n",
              "      <td>0</td>\n",
              "      <td>0</td>\n",
              "    </tr>\n",
              "  </tbody>\n",
              "</table>\n",
              "</div>"
            ],
            "text/plain": [
              "   MARITAL  FAGE  GAINED  VISITS  ...  HISPDAD_O  HISPDAD_P  HISPDAD_S  HISPDAD_U\n",
              "0        1    33      26      10  ...          0          0          0          0\n",
              "1        2    19      40      10  ...          0          0          0          0\n",
              "2        1    33      16      14  ...          0          0          0          0\n",
              "3        1    25      40      15  ...          0          0          0          0\n",
              "4        2    21      60      13  ...          0          0          0          0\n",
              "\n",
              "[5 rows x 46 columns]"
            ]
          },
          "metadata": {
            "tags": []
          },
          "execution_count": 29
        }
      ]
    },
    {
      "cell_type": "code",
      "metadata": {
        "id": "bGdWtBmrG5WP"
      },
      "source": [
        "# Import SelectKBest, chi2(score function for classification), f_regression (score function for regression)\n",
        "from sklearn.feature_selection import SelectKBest, chi2, f_regression\n",
        "# Create the object for SelectKBest and fit and transform the classification data\n",
        "# k is the number of features you want to select [here it's 10]\n",
        "x_data_clf_fs=SelectKBest(score_func=chi2,k=10).fit_transform(x_data_dummies,y_data)"
      ],
      "execution_count": 30,
      "outputs": []
    },
    {
      "cell_type": "code",
      "metadata": {
        "colab": {
          "base_uri": "https://localhost:8080/"
        },
        "id": "HPj3p1OEHakG",
        "outputId": "974c9876-711d-4a79-b6c4-7a3cd102c734"
      },
      "source": [
        "print(x_data_clf_fs[:5])"
      ],
      "execution_count": 31,
      "outputs": [
        {
          "output_type": "stream",
          "text": [
            "[[26 10  0 35  0  0  0  0  0  0]\n",
            " [40 10  0 41  0  0  0  0  0  0]\n",
            " [16 14  0 39  0  0  0  0  0  0]\n",
            " [40 15  0 38  0  0  0  0  0  0]\n",
            " [60 13  0 40  0  1  0  0  0  0]]\n"
          ],
          "name": "stdout"
        }
      ]
    },
    {
      "cell_type": "code",
      "metadata": {
        "colab": {
          "base_uri": "https://localhost:8080/"
        },
        "id": "H3Xc_k73gd37",
        "outputId": "2886f009-4537-45c7-9168-af5bfa966fd2"
      },
      "source": [
        "baby_data_clf.BWEIGHT.value_counts()"
      ],
      "execution_count": 32,
      "outputs": [
        {
          "output_type": "execute_result",
          "data": {
            "text/plain": [
              "0    93242\n",
              "1     6464\n",
              "2     1694\n",
              "Name: BWEIGHT, dtype: int64"
            ]
          },
          "metadata": {
            "tags": []
          },
          "execution_count": 32
        }
      ]
    },
    {
      "cell_type": "code",
      "metadata": {
        "colab": {
          "base_uri": "https://localhost:8080/"
        },
        "id": "TjvuaPQGiekv",
        "outputId": "cd9a0190-926c-45f2-dcec-ee466bd89331"
      },
      "source": [
        "skewness = baby_data_clf.BWEIGHT.skew()\n",
        "print(\"Skewness: %f\" % skewness)\n",
        "kurtosis = baby_data_clf.BWEIGHT.kurt()\n",
        "print(\"Kurtosis: %f\" % kurtosis)"
      ],
      "execution_count": 33,
      "outputs": [
        {
          "output_type": "stream",
          "text": [
            "Skewness: 3.823026\n",
            "Kurtosis: 14.819809\n"
          ],
          "name": "stdout"
        }
      ]
    },
    {
      "cell_type": "code",
      "metadata": {
        "id": "2pISiFcftPQp"
      },
      "source": [
        "import matplotlib.pyplot as plt\r\n",
        "import seaborn as sns\r\n",
        "\r\n",
        "from sklearn.linear_model import LogisticRegression\r\n",
        "from sklearn.tree import DecisionTreeClassifier\r\n",
        "from sklearn.ensemble import RandomForestClassifier\r\n",
        "from sklearn.metrics import accuracy_score, f1_score, precision_score, recall_score\r\n",
        "from sklearn.metrics import confusion_matrix, roc_auc_score, roc_curve, classification_report, precision_recall_curve\r\n",
        "from sklearn.model_selection import train_test_split, cross_val_score, StratifiedKFold, GridSearchCV, RandomizedSearchCV\r\n",
        "\r\n",
        "from collections import Counter"
      ],
      "execution_count": 35,
      "outputs": []
    },
    {
      "cell_type": "code",
      "metadata": {
        "id": "yAGP2ndIssm1"
      },
      "source": [
        "# Splitting the data into train and test\r\n",
        "X_train,X_test,y_train,y_test=train_test_split(x_data_dummies, y_data, train_size=0.8, stratify = y_data, random_state=100)"
      ],
      "execution_count": 36,
      "outputs": []
    },
    {
      "cell_type": "code",
      "metadata": {
        "colab": {
          "base_uri": "https://localhost:8080/"
        },
        "id": "LQaWi5fvLimI",
        "outputId": "9cfa13ab-318a-4f76-a73c-ad317e95d4d5"
      },
      "source": [
        "from imblearn.combine import SMOTEENN\r\n",
        "\r\n",
        "counter = Counter(y_train)\r\n",
        "print('Before',counter)\r\n",
        "# oversampling the train dataset using SMOTE + ENN\r\n",
        "smenn = SMOTEENN()\r\n",
        "X_train_smenn, y_train_smenn = smenn.fit_resample(X_train, y_train)\r\n",
        "\r\n",
        "counter = Counter(y_train_smenn)\r\n",
        "print('After',counter)"
      ],
      "execution_count": 57,
      "outputs": [
        {
          "output_type": "stream",
          "text": [
            "/usr/local/lib/python3.6/dist-packages/sklearn/externals/six.py:31: FutureWarning: The module is deprecated in version 0.21 and will be removed in version 0.23 since we've dropped support for Python 2.7. Please rely on the official version of six (https://pypi.org/project/six/).\n",
            "  \"(https://pypi.org/project/six/).\", FutureWarning)\n",
            "/usr/local/lib/python3.6/dist-packages/sklearn/utils/deprecation.py:144: FutureWarning: The sklearn.neighbors.base module is  deprecated in version 0.22 and will be removed in version 0.24. The corresponding classes / functions should instead be imported from sklearn.neighbors. Anything that cannot be imported from sklearn.neighbors is now part of the private API.\n",
            "  warnings.warn(message, FutureWarning)\n",
            "/usr/local/lib/python3.6/dist-packages/sklearn/utils/deprecation.py:87: FutureWarning: Function safe_indexing is deprecated; safe_indexing is deprecated in version 0.22 and will be removed in version 0.24.\n",
            "  warnings.warn(msg, category=FutureWarning)\n"
          ],
          "name": "stderr"
        },
        {
          "output_type": "stream",
          "text": [
            "Before Counter({0: 74594, 1: 5171, 2: 1355})\n"
          ],
          "name": "stdout"
        },
        {
          "output_type": "stream",
          "text": [
            "/usr/local/lib/python3.6/dist-packages/sklearn/utils/deprecation.py:87: FutureWarning: Function safe_indexing is deprecated; safe_indexing is deprecated in version 0.22 and will be removed in version 0.24.\n",
            "  warnings.warn(msg, category=FutureWarning)\n",
            "/usr/local/lib/python3.6/dist-packages/sklearn/utils/deprecation.py:87: FutureWarning: Function safe_indexing is deprecated; safe_indexing is deprecated in version 0.22 and will be removed in version 0.24.\n",
            "  warnings.warn(msg, category=FutureWarning)\n",
            "/usr/local/lib/python3.6/dist-packages/sklearn/utils/deprecation.py:87: FutureWarning: Function safe_indexing is deprecated; safe_indexing is deprecated in version 0.22 and will be removed in version 0.24.\n",
            "  warnings.warn(msg, category=FutureWarning)\n",
            "/usr/local/lib/python3.6/dist-packages/sklearn/utils/deprecation.py:87: FutureWarning: Function safe_indexing is deprecated; safe_indexing is deprecated in version 0.22 and will be removed in version 0.24.\n",
            "  warnings.warn(msg, category=FutureWarning)\n"
          ],
          "name": "stderr"
        },
        {
          "output_type": "stream",
          "text": [
            "After Counter({2: 74380, 1: 72605, 0: 56792})\n"
          ],
          "name": "stdout"
        },
        {
          "output_type": "stream",
          "text": [
            "/usr/local/lib/python3.6/dist-packages/sklearn/utils/deprecation.py:87: FutureWarning: Function safe_indexing is deprecated; safe_indexing is deprecated in version 0.22 and will be removed in version 0.24.\n",
            "  warnings.warn(msg, category=FutureWarning)\n"
          ],
          "name": "stderr"
        }
      ]
    },
    {
      "cell_type": "code",
      "metadata": {
        "colab": {
          "base_uri": "https://localhost:8080/"
        },
        "id": "b3-p7pTTNUto",
        "outputId": "971d6cb9-ccd6-4c55-d191-894a64e07f63"
      },
      "source": [
        "print(X_train_smenn)"
      ],
      "execution_count": 64,
      "outputs": [
        {
          "output_type": "stream",
          "text": [
            "[[ 1 39 30 ...  0  0  0]\n",
            " [ 1 29 21 ...  0  0  0]\n",
            " [ 1 35 30 ...  0  0  0]\n",
            " ...\n",
            " [ 1 29 30 ...  0  0  0]\n",
            " [ 2 28 13 ...  0  0  0]\n",
            " [ 1 31 10 ...  0  0  0]]\n"
          ],
          "name": "stdout"
        }
      ]
    },
    {
      "cell_type": "code",
      "metadata": {
        "colab": {
          "base_uri": "https://localhost:8080/"
        },
        "id": "4TdoX59TS_R2",
        "outputId": "5078e8b9-dfbe-4b87-bd4a-573435fba53e"
      },
      "source": [
        "list(X_train.columns) "
      ],
      "execution_count": 65,
      "outputs": [
        {
          "output_type": "execute_result",
          "data": {
            "text/plain": [
              "['MARITAL',\n",
              " 'FAGE',\n",
              " 'GAINED',\n",
              " 'VISITS',\n",
              " 'MAGE',\n",
              " 'FEDUC',\n",
              " 'MEDUC',\n",
              " 'TOTALP',\n",
              " 'BDEAD',\n",
              " 'TERMS',\n",
              " 'LOUTCOME',\n",
              " 'WEEKS',\n",
              " 'RACEMOM',\n",
              " 'RACEDAD',\n",
              " 'CIGNUM',\n",
              " 'DRINKNUM',\n",
              " 'ANEMIA',\n",
              " 'CARDIAC',\n",
              " 'ACLUNG',\n",
              " 'DIABETES',\n",
              " 'HERPES',\n",
              " 'HYDRAM',\n",
              " 'HEMOGLOB',\n",
              " 'HYPERCH',\n",
              " 'HYPERPR',\n",
              " 'ECLAMP',\n",
              " 'CERVIX',\n",
              " 'PINFANT',\n",
              " 'PRETERM',\n",
              " 'RENAL',\n",
              " 'RHSEN',\n",
              " 'UTERINE',\n",
              " 'HISPMOM_C',\n",
              " 'HISPMOM_M',\n",
              " 'HISPMOM_N',\n",
              " 'HISPMOM_O',\n",
              " 'HISPMOM_P',\n",
              " 'HISPMOM_S',\n",
              " 'HISPMOM_U',\n",
              " 'HISPDAD_C',\n",
              " 'HISPDAD_M',\n",
              " 'HISPDAD_N',\n",
              " 'HISPDAD_O',\n",
              " 'HISPDAD_P',\n",
              " 'HISPDAD_S',\n",
              " 'HISPDAD_U']"
            ]
          },
          "metadata": {
            "tags": []
          },
          "execution_count": 65
        }
      ]
    },
    {
      "cell_type": "code",
      "metadata": {
        "id": "d4AZ_vJ0VB-A"
      },
      "source": [
        "column_names = ['MARITAL',\r\n",
        " 'FAGE',\r\n",
        " 'GAINED',\r\n",
        " 'VISITS',\r\n",
        " 'MAGE',\r\n",
        " 'FEDUC',\r\n",
        " 'MEDUC',\r\n",
        " 'TOTALP',\r\n",
        " 'BDEAD',\r\n",
        " 'TERMS',\r\n",
        " 'LOUTCOME',\r\n",
        " 'WEEKS',\r\n",
        " 'RACEMOM',\r\n",
        " 'RACEDAD',\r\n",
        " 'CIGNUM',\r\n",
        " 'DRINKNUM',\r\n",
        " 'ANEMIA',\r\n",
        " 'CARDIAC',\r\n",
        " 'ACLUNG',\r\n",
        " 'DIABETES',\r\n",
        " 'HERPES',\r\n",
        " 'HYDRAM',\r\n",
        " 'HEMOGLOB',\r\n",
        " 'HYPERCH',\r\n",
        " 'HYPERPR',\r\n",
        " 'ECLAMP',\r\n",
        " 'CERVIX',\r\n",
        " 'PINFANT',\r\n",
        " 'PRETERM',\r\n",
        " 'RENAL',\r\n",
        " 'RHSEN',\r\n",
        " 'UTERINE',\r\n",
        " 'HISPMOM_C',\r\n",
        " 'HISPMOM_M',\r\n",
        " 'HISPMOM_N',\r\n",
        " 'HISPMOM_O',\r\n",
        " 'HISPMOM_P',\r\n",
        " 'HISPMOM_S',\r\n",
        " 'HISPMOM_U',\r\n",
        " 'HISPDAD_C',\r\n",
        " 'HISPDAD_M',\r\n",
        " 'HISPDAD_N',\r\n",
        " 'HISPDAD_O',\r\n",
        " 'HISPDAD_P',\r\n",
        " 'HISPDAD_S',\r\n",
        " 'HISPDAD_U']"
      ],
      "execution_count": 66,
      "outputs": []
    },
    {
      "cell_type": "code",
      "metadata": {
        "id": "fq8LMlBdVGo0"
      },
      "source": [
        "# creating the dataframe \r\n",
        "X_train_bal = pd.DataFrame(data = X_train_smenn,  \r\n",
        "                             columns = column_names) "
      ],
      "execution_count": 67,
      "outputs": []
    },
    {
      "cell_type": "code",
      "metadata": {
        "colab": {
          "base_uri": "https://localhost:8080/"
        },
        "id": "RpOIEal4DHFn",
        "outputId": "4cb82850-a69d-4c3b-d84d-0299af65d248"
      },
      "source": [
        "from xgboost import XGBClassifier\r\n",
        "from sklearn.metrics import accuracy_score\r\n",
        "model = XGBClassifier() \r\n",
        "\r\n",
        "model.fit(X_train, y_train)"
      ],
      "execution_count": 73,
      "outputs": [
        {
          "output_type": "execute_result",
          "data": {
            "text/plain": [
              "XGBClassifier(base_score=0.5, booster='gbtree', colsample_bylevel=1,\n",
              "              colsample_bynode=1, colsample_bytree=1, gamma=0,\n",
              "              learning_rate=0.1, max_delta_step=0, max_depth=3,\n",
              "              min_child_weight=1, missing=None, n_estimators=100, n_jobs=1,\n",
              "              nthread=None, objective='multi:softprob', random_state=0,\n",
              "              reg_alpha=0, reg_lambda=1, scale_pos_weight=1, seed=None,\n",
              "              silent=None, subsample=1, verbosity=1)"
            ]
          },
          "metadata": {
            "tags": []
          },
          "execution_count": 73
        }
      ]
    },
    {
      "cell_type": "code",
      "metadata": {
        "colab": {
          "base_uri": "https://localhost:8080/"
        },
        "id": "abxYx8reDv06",
        "outputId": "447aa9be-c19c-49ef-a581-102f960101e5"
      },
      "source": [
        "y_pred = model.predict(X_test) \r\n",
        "\r\n",
        "predictions = [round(value) for value in y_pred]\r\n",
        "\r\n",
        "accuracy = accuracy_score(y_test, predictions) \r\n",
        "\r\n",
        "print(\"Accuracy: %.2f%%\" % (accuracy * 100.0))"
      ],
      "execution_count": 74,
      "outputs": [
        {
          "output_type": "stream",
          "text": [
            "Accuracy: 93.70%\n"
          ],
          "name": "stdout"
        }
      ]
    },
    {
      "cell_type": "code",
      "metadata": {
        "colab": {
          "base_uri": "https://localhost:8080/"
        },
        "id": "Q3zxL5avEaT9",
        "outputId": "c66897f8-90ef-449e-a572-cf97691c4f45"
      },
      "source": [
        "from sklearn.metrics import classification_report, confusion_matrix\r\n",
        "\r\n",
        "print(classification_report(y_test, predictions))"
      ],
      "execution_count": 75,
      "outputs": [
        {
          "output_type": "stream",
          "text": [
            "              precision    recall  f1-score   support\n",
            "\n",
            "           0       0.95      0.99      0.97     18648\n",
            "           1       0.55      0.24      0.34      1293\n",
            "           2       0.80      0.66      0.73       339\n",
            "\n",
            "    accuracy                           0.94     20280\n",
            "   macro avg       0.77      0.63      0.68     20280\n",
            "weighted avg       0.92      0.94      0.93     20280\n",
            "\n"
          ],
          "name": "stdout"
        }
      ]
    },
    {
      "cell_type": "code",
      "metadata": {
        "colab": {
          "base_uri": "https://localhost:8080/",
          "height": 387
        },
        "id": "NXPWjwsTxUzs",
        "outputId": "5e66affc-b14d-4553-a70a-a9d1ab21c694"
      },
      "source": [
        "f, ax = plt.subplots(figsize=(10,5))\r\n",
        "plot = sns.barplot(x=column_names, y=model.feature_importances_)\r\n",
        "ax.set_title('Feature Importance')\r\n",
        "plot.set_xticklabels(plot.get_xticklabels(),rotation='vertical')\r\n",
        "plt.show()"
      ],
      "execution_count": 76,
      "outputs": [
        {
          "output_type": "display_data",
          "data": {
            "image/png": "[encoded data removed]",
            "text/plain": [
              "<Figure size 720x360 with 1 Axes>"
            ]
          },
          "metadata": {
            "tags": [],
            "needs_background": "light"
          }
        }
      ]
    }
  ]
}